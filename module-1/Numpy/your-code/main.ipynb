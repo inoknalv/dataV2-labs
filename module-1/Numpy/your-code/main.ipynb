{
 "cells": [
  {
   "cell_type": "markdown",
   "metadata": {},
   "source": [
    "# Introduction to NumPy\n",
    "\n",
    "\n",
    "#### 1. Import NumPy under the name np."
   ]
  },
  {
   "cell_type": "code",
   "execution_count": 2,
   "metadata": {},
   "outputs": [],
   "source": [
    "# your code here\n",
    "import numpy as np"
   ]
  },
  {
   "cell_type": "markdown",
   "metadata": {},
   "source": [
    "#### 2. Print your NumPy version."
   ]
  },
  {
   "cell_type": "code",
   "execution_count": 3,
   "metadata": {},
   "outputs": [
    {
     "name": "stdout",
     "output_type": "stream",
     "text": [
      "1.18.4\n"
     ]
    }
   ],
   "source": [
    "# your code here\n",
    "print(np.__version__)"
   ]
  },
  {
   "cell_type": "markdown",
   "metadata": {},
   "source": [
    "#### 3. Generate a 2x3x5 3-dimensional array with random values. Assign the array to variable *a*.\n",
    "**Challenge**: there are at least three easy ways that use numpy to generate random arrays. How many ways can you find?"
   ]
  },
  {
   "cell_type": "code",
   "execution_count": 5,
   "metadata": {},
   "outputs": [
    {
     "name": "stdout",
     "output_type": "stream",
     "text": [
      "[[[0.53767326 0.33838669 0.61735756 0.31431175 0.9193919 ]\n",
      "  [0.20914461 0.41024925 0.58528496 0.8891937  0.0821874 ]\n",
      "  [0.07809665 0.8803119  0.93337296 0.16429438 0.64096921]]\n",
      "\n",
      " [[0.29563201 0.13553599 0.92647541 0.17211409 0.75166409]\n",
      "  [0.68152013 0.93585621 0.45767729 0.70599044 0.01440031]\n",
      "  [0.84596659 0.42256102 0.88571099 0.2700894  0.97688922]]]\n"
     ]
    }
   ],
   "source": [
    "# Method 1\n",
    "a = np.random.random((2,3,5))\n",
    "print(a)"
   ]
  },
  {
   "cell_type": "code",
   "execution_count": 6,
   "metadata": {},
   "outputs": [
    {
     "name": "stdout",
     "output_type": "stream",
     "text": [
      "[[[0.10511598 0.17329292 0.54619074 0.23302686 0.78401774]\n",
      "  [0.99752849 0.48454897 0.80751013 0.15160536 0.11382186]\n",
      "  [0.77312573 0.59395055 0.53326115 0.775465   0.21681918]]\n",
      "\n",
      " [[0.06256683 0.76011785 0.25304004 0.10458961 0.73252355]\n",
      "  [0.55944743 0.45207186 0.67406882 0.55846569 0.51545215]\n",
      "  [0.25711811 0.35081711 0.51735609 0.48348534 0.24625213]]]\n"
     ]
    }
   ],
   "source": [
    "# Method 2\n",
    "a = np.random.rand(2,3,5)\n",
    "print(a)"
   ]
  },
  {
   "cell_type": "code",
   "execution_count": null,
   "metadata": {},
   "outputs": [],
   "source": [
    "# Method 3"
   ]
  },
  {
   "cell_type": "markdown",
   "metadata": {},
   "source": [
    "#### 4. Print *a*.\n"
   ]
  },
  {
   "cell_type": "code",
   "execution_count": 7,
   "metadata": {},
   "outputs": [
    {
     "name": "stdout",
     "output_type": "stream",
     "text": [
      "[[[0.10511598 0.17329292 0.54619074 0.23302686 0.78401774]\n",
      "  [0.99752849 0.48454897 0.80751013 0.15160536 0.11382186]\n",
      "  [0.77312573 0.59395055 0.53326115 0.775465   0.21681918]]\n",
      "\n",
      " [[0.06256683 0.76011785 0.25304004 0.10458961 0.73252355]\n",
      "  [0.55944743 0.45207186 0.67406882 0.55846569 0.51545215]\n",
      "  [0.25711811 0.35081711 0.51735609 0.48348534 0.24625213]]]\n"
     ]
    }
   ],
   "source": [
    "# your code here\n",
    "print(a)"
   ]
  },
  {
   "cell_type": "markdown",
   "metadata": {},
   "source": [
    "#### 5. Create a 5x2x3 3-dimensional array with all values equaling 1. Assign the array to variable *b*."
   ]
  },
  {
   "cell_type": "code",
   "execution_count": 9,
   "metadata": {},
   "outputs": [],
   "source": [
    "# your code here\n",
    "b = np.full((5,2,3), 1)"
   ]
  },
  {
   "cell_type": "markdown",
   "metadata": {},
   "source": [
    "#### 6. Print *b*.\n"
   ]
  },
  {
   "cell_type": "code",
   "execution_count": 10,
   "metadata": {},
   "outputs": [
    {
     "name": "stdout",
     "output_type": "stream",
     "text": [
      "[[[1 1 1]\n",
      "  [1 1 1]]\n",
      "\n",
      " [[1 1 1]\n",
      "  [1 1 1]]\n",
      "\n",
      " [[1 1 1]\n",
      "  [1 1 1]]\n",
      "\n",
      " [[1 1 1]\n",
      "  [1 1 1]]\n",
      "\n",
      " [[1 1 1]\n",
      "  [1 1 1]]]\n"
     ]
    }
   ],
   "source": [
    "# your code here\n",
    "print(b)"
   ]
  },
  {
   "cell_type": "markdown",
   "metadata": {},
   "source": [
    "#### 7. Do *a* and *b* have the same size? How do you prove that in Python code?"
   ]
  },
  {
   "cell_type": "code",
   "execution_count": 11,
   "metadata": {},
   "outputs": [
    {
     "data": {
      "text/plain": [
       "True"
      ]
     },
     "execution_count": 11,
     "metadata": {},
     "output_type": "execute_result"
    }
   ],
   "source": [
    "# your code here\n",
    "a.size == b.size"
   ]
  },
  {
   "cell_type": "markdown",
   "metadata": {},
   "source": [
    "#### 8. Are you able to add *a* and *b*? Why or why not?\n"
   ]
  },
  {
   "cell_type": "code",
   "execution_count": 12,
   "metadata": {},
   "outputs": [
    {
     "ename": "ValueError",
     "evalue": "operands could not be broadcast together with shapes (2,3,5) (5,2,3) ",
     "output_type": "error",
     "traceback": [
      "\u001b[0;31m---------------------------------------------------------------------------\u001b[0m",
      "\u001b[0;31mValueError\u001b[0m                                Traceback (most recent call last)",
      "\u001b[0;32m<ipython-input-12-5adcc281107e>\u001b[0m in \u001b[0;36m<module>\u001b[0;34m\u001b[0m\n\u001b[1;32m      1\u001b[0m \u001b[0;31m# your answer here\u001b[0m\u001b[0;34m\u001b[0m\u001b[0;34m\u001b[0m\u001b[0;34m\u001b[0m\u001b[0m\n\u001b[0;32m----> 2\u001b[0;31m \u001b[0mc\u001b[0m \u001b[0;34m=\u001b[0m \u001b[0ma\u001b[0m \u001b[0;34m+\u001b[0m \u001b[0mb\u001b[0m\u001b[0;34m\u001b[0m\u001b[0;34m\u001b[0m\u001b[0m\n\u001b[0m",
      "\u001b[0;31mValueError\u001b[0m: operands could not be broadcast together with shapes (2,3,5) (5,2,3) "
     ]
    }
   ],
   "source": [
    "# your answer here\n",
    "c = a + b\n",
    "# ValueError: operands could not be broadcast together with shapes (2,3,5) (5,2,3) "
   ]
  },
  {
   "cell_type": "markdown",
   "metadata": {},
   "source": [
    "#### 9. Transpose *b* so that it has the same structure of *a* (i.e. become a 2x3x5 array). Assign the transposed array to variable *c*."
   ]
  },
  {
   "cell_type": "code",
   "execution_count": 16,
   "metadata": {},
   "outputs": [
    {
     "name": "stdout",
     "output_type": "stream",
     "text": [
      "[[[1 1 1 1 1]\n",
      "  [1 1 1 1 1]\n",
      "  [1 1 1 1 1]]\n",
      "\n",
      " [[1 1 1 1 1]\n",
      "  [1 1 1 1 1]\n",
      "  [1 1 1 1 1]]]\n"
     ]
    }
   ],
   "source": [
    "# your code here\n",
    "c = np.reshape(b, (2,3,5))\n",
    "print(c)"
   ]
  },
  {
   "cell_type": "markdown",
   "metadata": {},
   "source": [
    "#### 10. Try to add *a* and *c*. Now it should work. Assign the sum to variable *d*. But why does it work now?"
   ]
  },
  {
   "cell_type": "code",
   "execution_count": 17,
   "metadata": {},
   "outputs": [],
   "source": [
    "# your code/answer here\n",
    "d = a + c"
   ]
  },
  {
   "cell_type": "markdown",
   "metadata": {},
   "source": [
    "#### 11. Print *a* and *d*. Notice the difference and relation of the two array in terms of the values? Explain."
   ]
  },
  {
   "cell_type": "code",
   "execution_count": 18,
   "metadata": {},
   "outputs": [
    {
     "name": "stdout",
     "output_type": "stream",
     "text": [
      "[[[0.10511598 0.17329292 0.54619074 0.23302686 0.78401774]\n",
      "  [0.99752849 0.48454897 0.80751013 0.15160536 0.11382186]\n",
      "  [0.77312573 0.59395055 0.53326115 0.775465   0.21681918]]\n",
      "\n",
      " [[0.06256683 0.76011785 0.25304004 0.10458961 0.73252355]\n",
      "  [0.55944743 0.45207186 0.67406882 0.55846569 0.51545215]\n",
      "  [0.25711811 0.35081711 0.51735609 0.48348534 0.24625213]]]\n",
      "[[[1.10511598 1.17329292 1.54619074 1.23302686 1.78401774]\n",
      "  [1.99752849 1.48454897 1.80751013 1.15160536 1.11382186]\n",
      "  [1.77312573 1.59395055 1.53326115 1.775465   1.21681918]]\n",
      "\n",
      " [[1.06256683 1.76011785 1.25304004 1.10458961 1.73252355]\n",
      "  [1.55944743 1.45207186 1.67406882 1.55846569 1.51545215]\n",
      "  [1.25711811 1.35081711 1.51735609 1.48348534 1.24625213]]]\n"
     ]
    }
   ],
   "source": [
    "# your code/answer here\n",
    "print(a)\n",
    "print(d)\n",
    "d = a + 1"
   ]
  },
  {
   "cell_type": "markdown",
   "metadata": {},
   "source": [
    "#### 12. Multiply *a* and *c*. Assign the result to *e*."
   ]
  },
  {
   "cell_type": "code",
   "execution_count": 19,
   "metadata": {},
   "outputs": [
    {
     "name": "stdout",
     "output_type": "stream",
     "text": [
      "[[[0.10511598 0.17329292 0.54619074 0.23302686 0.78401774]\n",
      "  [0.99752849 0.48454897 0.80751013 0.15160536 0.11382186]\n",
      "  [0.77312573 0.59395055 0.53326115 0.775465   0.21681918]]\n",
      "\n",
      " [[0.06256683 0.76011785 0.25304004 0.10458961 0.73252355]\n",
      "  [0.55944743 0.45207186 0.67406882 0.55846569 0.51545215]\n",
      "  [0.25711811 0.35081711 0.51735609 0.48348534 0.24625213]]]\n"
     ]
    }
   ],
   "source": [
    "# your code here\n",
    "e = a * c\n",
    "print(e)"
   ]
  },
  {
   "cell_type": "markdown",
   "metadata": {},
   "source": [
    "#### 13. Does *e* equal to *a*? Why or why not?\n"
   ]
  },
  {
   "cell_type": "code",
   "execution_count": 20,
   "metadata": {},
   "outputs": [
    {
     "data": {
      "text/plain": [
       "array([[[ True,  True,  True,  True,  True],\n",
       "        [ True,  True,  True,  True,  True],\n",
       "        [ True,  True,  True,  True,  True]],\n",
       "\n",
       "       [[ True,  True,  True,  True,  True],\n",
       "        [ True,  True,  True,  True,  True],\n",
       "        [ True,  True,  True,  True,  True]]])"
      ]
     },
     "execution_count": 20,
     "metadata": {},
     "output_type": "execute_result"
    }
   ],
   "source": [
    "# your code/answer here\n",
    "e == a"
   ]
  },
  {
   "cell_type": "markdown",
   "metadata": {},
   "source": [
    "#### 14. Identify the max, min, and mean values in *d*. Assign those values to variables *d_max*, *d_min* and *d_mean*."
   ]
  },
  {
   "cell_type": "code",
   "execution_count": 23,
   "metadata": {},
   "outputs": [
    {
     "name": "stdout",
     "output_type": "stream",
     "text": [
      "1.997528485280752\n",
      "1.0625668298239463\n",
      "1.460555108942001\n"
     ]
    }
   ],
   "source": [
    "# your code here\n",
    "d_max = np.amax(d)\n",
    "d_min = np.amin(d)\n",
    "d_mean = np.mean(d)\n",
    "print(d_max)\n",
    "print(d_min)\n",
    "print(d_mean)"
   ]
  },
  {
   "cell_type": "markdown",
   "metadata": {},
   "source": [
    "#### 15. Now we want to label the values in *d*. First create an empty array *f* with the same shape (i.e. 2x3x5) as *d* using `np.empty`.\n"
   ]
  },
  {
   "cell_type": "code",
   "execution_count": 27,
   "metadata": {},
   "outputs": [
    {
     "name": "stdout",
     "output_type": "stream",
     "text": [
      "[[[0.10511598 0.17329292 0.54619074 0.23302686 0.78401774]\n",
      "  [0.99752849 0.48454897 0.80751013 0.15160536 0.11382186]\n",
      "  [0.77312573 0.59395055 0.53326115 0.775465   0.21681918]]\n",
      "\n",
      " [[0.06256683 0.76011785 0.25304004 0.10458961 0.73252355]\n",
      "  [0.55944743 0.45207186 0.67406882 0.55846569 0.51545215]\n",
      "  [0.25711811 0.35081711 0.51735609 0.48348534 0.24625213]]]\n"
     ]
    }
   ],
   "source": [
    "# your code here\n",
    "f = np.empty([2,3,5])\n",
    "print(f)"
   ]
  },
  {
   "cell_type": "markdown",
   "metadata": {},
   "source": [
    "#### 16. Populate the values in *f*. \n",
    "\n",
    "For each value in *d*, if it's larger than *d_min* but smaller than *d_mean*, assign 25 to the corresponding value in *f*. If a value in *d* is larger than *d_mean* but smaller than *d_max*, assign 75 to the corresponding value in *f*. If a value equals to *d_mean*, assign 50 to the corresponding value in *f*. Assign 0 to the corresponding value(s) in *f* for *d_min* in *d*. Assign 100 to the corresponding value(s) in *f* for *d_max* in *d*. In the end, f should have only the following values: 0, 25, 50, 75, and 100.\n",
    "\n",
    "**Note**: you don't have to use Numpy in this question."
   ]
  },
  {
   "cell_type": "code",
   "execution_count": 42,
   "metadata": {},
   "outputs": [
    {
     "name": "stdout",
     "output_type": "stream",
     "text": [
      "[[[ 25.  25.  75.  25.  75.]\n",
      "  [100.  75.  75.  25.  25.]\n",
      "  [ 75.  75.  75.  75.  25.]]\n",
      "\n",
      " [[  0.  75.  25.  25.  75.]\n",
      "  [ 75.  25.  75.  75.  75.]\n",
      "  [ 25.  25.  75.  75.  25.]]]\n"
     ]
    }
   ],
   "source": [
    "# your code here\n",
    "f[(d_mean > d) & (d > d_min)] = 25.\n",
    "f[(d_mean < d) & (d < d_max)] = 75.\n",
    "f[d == d_mean] = 50.\n",
    "f[d == d_min] = 0.\n",
    "f[d == d_max] = 100."
   ]
  },
  {
   "cell_type": "markdown",
   "metadata": {},
   "source": [
    "#### 17. Print *d* and *f*. Do you have your expected *f*?\n",
    "For instance, if your *d* is:\n",
    "```python\n",
    "[[[1.85836099, 1.67064465, 1.62576044, 1.40243961, 1.88454931],\n",
    "[1.75354326, 1.69403643, 1.36729252, 1.61415071, 1.12104981],\n",
    "[1.72201435, 1.1862918 , 1.87078449, 1.7726778 , 1.88180042]],\n",
    "[[1.44747908, 1.31673383, 1.02000951, 1.52218947, 1.97066381],\n",
    "[1.79129243, 1.74983003, 1.96028037, 1.85166831, 1.65450881],\n",
    "[1.18068344, 1.9587381 , 1.00656599, 1.93402165, 1.73514584]]]\n",
    "```\n",
    "Your *f* should be:\n",
    "```python\n",
    "[[[ 75.,  75.,  75.,  25.,  75.],\n",
    "[ 75.,  75.,  25.,  25.,  25.],\n",
    "[ 75.,  25.,  75.,  75.,  75.]],\n",
    "[[ 25.,  25.,  25.,  25., 100.],\n",
    "[ 75.,  75.,  75.,  75.,  75.],\n",
    "[ 25.,  75.,   0.,  75.,  75.]]]\n",
    "```"
   ]
  },
  {
   "cell_type": "code",
   "execution_count": 43,
   "metadata": {},
   "outputs": [
    {
     "name": "stdout",
     "output_type": "stream",
     "text": [
      "MIN: 1.0625668298239463\n",
      "MAX: 1.997528485280752\n",
      "MEAN: 1.460555108942001\n",
      "[[[1.10511598 1.17329292 1.54619074 1.23302686 1.78401774]\n",
      "  [1.99752849 1.48454897 1.80751013 1.15160536 1.11382186]\n",
      "  [1.77312573 1.59395055 1.53326115 1.775465   1.21681918]]\n",
      "\n",
      " [[1.06256683 1.76011785 1.25304004 1.10458961 1.73252355]\n",
      "  [1.55944743 1.45207186 1.67406882 1.55846569 1.51545215]\n",
      "  [1.25711811 1.35081711 1.51735609 1.48348534 1.24625213]]]\n",
      "[[[ 25.  25.  75.  25.  75.]\n",
      "  [100.  75.  75.  25.  25.]\n",
      "  [ 75.  75.  75.  75.  25.]]\n",
      "\n",
      " [[  0.  75.  25.  25.  75.]\n",
      "  [ 75.  25.  75.  75.  75.]\n",
      "  [ 25.  25.  75.  75.  25.]]]\n"
     ]
    }
   ],
   "source": [
    "# your code here\n",
    "print(f'MIN: {d_min}')\n",
    "print(f'MAX: {d_max}')\n",
    "print(f'MEAN: {d_mean}')\n",
    "print(d)\n",
    "print(f)"
   ]
  },
  {
   "cell_type": "markdown",
   "metadata": {},
   "source": [
    "#### 18. Bonus question: instead of using numbers (i.e. 0, 25, 50, 75, and 100), use string values  (\"A\", \"B\", \"C\", \"D\", and \"E\") to label the array elements. For the example above, the expected result is:\n",
    "\n",
    "```python\n",
    "[[[ 'D',  'D',  'D',  'B',  'D'],\n",
    "[ 'D',  'D',  'B',  'B',  'B'],\n",
    "[ 'D',  'B',  'D',  'D',  'D']],\n",
    "[[ 'B',  'B',  'B',  'B',  'E'],\n",
    "[ 'D',  'D',  'D',  'D',  'D'],\n",
    "[ 'B',  'D',   'A',  'D', 'D']]]\n",
    "```\n",
    "**Note**: you don't have to use Numpy in this question."
   ]
  },
  {
   "cell_type": "code",
   "execution_count": 47,
   "metadata": {},
   "outputs": [
    {
     "name": "stdout",
     "output_type": "stream",
     "text": [
      "MIN: 1.0625668298239463\n",
      "MAX: 1.997528485280752\n",
      "MEAN: 1.460555108942001\n",
      "[[[1.10511598 1.17329292 1.54619074 1.23302686 1.78401774]\n",
      "  [1.99752849 1.48454897 1.80751013 1.15160536 1.11382186]\n",
      "  [1.77312573 1.59395055 1.53326115 1.775465   1.21681918]]\n",
      "\n",
      " [[1.06256683 1.76011785 1.25304004 1.10458961 1.73252355]\n",
      "  [1.55944743 1.45207186 1.67406882 1.55846569 1.51545215]\n",
      "  [1.25711811 1.35081711 1.51735609 1.48348534 1.24625213]]]\n",
      "[[['B' 'B' 'D' 'B' 'D']\n",
      "  ['E' 'D' 'D' 'B' 'B']\n",
      "  ['D' 'D' 'D' 'D' 'B']]\n",
      "\n",
      " [['A' 'D' 'B' 'B' 'D']\n",
      "  ['D' 'B' 'D' 'D' 'D']\n",
      "  ['B' 'B' 'D' 'D' 'B']]]\n"
     ]
    }
   ],
   "source": [
    "# your code here\n",
    "f = f.astype('str')\n",
    "f[(d_mean > d) & (d > d_min)] = 'B'\n",
    "f[(d_mean < d) & (d < d_max)] = 'D'\n",
    "f[d == d_mean] = 'C'\n",
    "f[d == d_min] = 'A'\n",
    "f[d == d_max] = 'E'\n",
    "\n",
    "print(f'MIN: {d_min}')\n",
    "print(f'MAX: {d_max}')\n",
    "print(f'MEAN: {d_mean}')\n",
    "print(d)\n",
    "print(f)"
   ]
  },
  {
   "cell_type": "code",
   "execution_count": null,
   "metadata": {},
   "outputs": [],
   "source": []
  }
 ],
 "metadata": {
  "kernelspec": {
   "display_name": "Python 3",
   "language": "python",
   "name": "python3"
  },
  "language_info": {
   "codemirror_mode": {
    "name": "ipython",
    "version": 3
   },
   "file_extension": ".py",
   "mimetype": "text/x-python",
   "name": "python",
   "nbconvert_exporter": "python",
   "pygments_lexer": "ipython3",
   "version": "3.7.7"
  }
 },
 "nbformat": 4,
 "nbformat_minor": 4
}
