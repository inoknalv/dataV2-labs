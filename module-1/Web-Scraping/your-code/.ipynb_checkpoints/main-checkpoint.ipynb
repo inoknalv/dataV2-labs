{
 "cells": [
  {
   "cell_type": "markdown",
   "metadata": {},
   "source": [
    "# Web Scraping Lab\n",
    "\n",
    "You will find in this notebook some scrapy exercises to practise your scraping skills.\n",
    "\n",
    "**Tips:**\n",
    "\n",
    "- Check the response status code for each request to ensure you have obtained the intended content.\n",
    "- Print the response text in each request to understand the kind of info you are getting and its format.\n",
    "- Check for patterns in the response text to extract the data/info requested in each question.\n",
    "- Visit the urls below and take a look at their source code through Chrome DevTools. You'll need to identify the html tags, special class names, etc used in the html content you are expected to extract.\n",
    "\n",
    "**Resources**:\n",
    "- [Requests library](http://docs.python-requests.org/en/master/#the-user-guide)\n",
    "- [Beautiful Soup Doc](https://www.crummy.com/software/BeautifulSoup/bs4/doc/)\n",
    "- [Urllib](https://docs.python.org/3/library/urllib.html#module-urllib)\n",
    "- [re lib](https://docs.python.org/3/library/re.html)\n",
    "- [lxml lib](https://lxml.de/)\n",
    "- [Scrapy](https://scrapy.org/)\n",
    "- [List of HTTP status codes](https://en.wikipedia.org/wiki/List_of_HTTP_status_codes)\n",
    "- [HTML basics](http://www.simplehtmlguide.com/cheatsheet.php)\n",
    "- [CSS basics](https://www.cssbasics.com/#page_start)"
   ]
  },
  {
   "cell_type": "markdown",
   "metadata": {},
   "source": [
    "#### Below are the libraries and modules you may need. `requests`,  `BeautifulSoup` and `pandas` are already imported for you. If you prefer to use additional libraries feel free to do it."
   ]
  },
  {
   "cell_type": "code",
   "execution_count": 85,
   "metadata": {},
   "outputs": [],
   "source": [
    "import requests\n",
    "from bs4 import BeautifulSoup\n",
    "import pandas as pd\n",
    "import re\n",
    "import random"
   ]
  },
  {
   "cell_type": "markdown",
   "metadata": {},
   "source": [
    "#### Download, parse (using BeautifulSoup), and print the content from the Trending Developers page from GitHub:"
   ]
  },
  {
   "cell_type": "code",
   "execution_count": 86,
   "metadata": {},
   "outputs": [],
   "source": [
    "# This is the url you will scrape in this exercise\n",
    "url = 'https://github.com/trending/developers'"
   ]
  },
  {
   "cell_type": "code",
   "execution_count": 87,
   "metadata": {},
   "outputs": [],
   "source": [
    "# your code here\n",
    "html = requests.get(url).content\n",
    "soup = BeautifulSoup(html, 'html')"
   ]
  },
  {
   "cell_type": "markdown",
   "metadata": {},
   "source": [
    "#### Display the names of the trending developers retrieved in the previous step.\n",
    "\n",
    "Your output should be a Python list of developer names. Each name should not contain any html tag.\n",
    "\n",
    "**Instructions:**\n",
    "\n",
    "1. Find out the html tag and class names used for the developer names. You can achieve this using Chrome DevTools.\n",
    "\n",
    "1. Use BeautifulSoup to extract all the html elements that contain the developer names.\n",
    "\n",
    "1. Use string manipulation techniques to replace whitespaces and linebreaks (i.e. `\\n`) in the *text* of each html element. Use a list to store the clean names.\n",
    "\n",
    "1. Print the list of names.\n",
    "\n",
    "Your output should look like below:\n",
    "\n",
    "```\n",
    "['trimstray (@trimstray)',\n",
    " 'joewalnes (JoeWalnes)',\n",
    " 'charlax (Charles-AxelDein)',\n",
    " 'ForrestKnight (ForrestKnight)',\n",
    " 'revery-ui (revery-ui)',\n",
    " 'alibaba (Alibaba)',\n",
    " 'Microsoft (Microsoft)',\n",
    " 'github (GitHub)',\n",
    " 'facebook (Facebook)',\n",
    " 'boazsegev (Bo)',\n",
    " 'google (Google)',\n",
    " 'cloudfetch',\n",
    " 'sindresorhus (SindreSorhus)',\n",
    " 'tensorflow',\n",
    " 'apache (TheApacheSoftwareFoundation)',\n",
    " 'DevonCrawford (DevonCrawford)',\n",
    " 'ARMmbed (ArmMbed)',\n",
    " 'vuejs (vuejs)',\n",
    " 'fastai (fast.ai)',\n",
    " 'QiShaoXuan (Qi)',\n",
    " 'joelparkerhenderson (JoelParkerHenderson)',\n",
    " 'torvalds (LinusTorvalds)',\n",
    " 'CyC2018',\n",
    " 'komeiji-satori (神楽坂覚々)',\n",
    " 'script-8']\n",
    " ```"
   ]
  },
  {
   "cell_type": "code",
   "execution_count": 88,
   "metadata": {},
   "outputs": [
    {
     "data": {
      "text/plain": [
       "['Dave Henderson (hairyhenderson)',\n",
       " 'Franck Nijhof (frenck)',\n",
       " 'Brian Flad (bflad)',\n",
       " 'Rafael Gomes (gomex)',\n",
       " 'PySimpleGUI (PySimpleGUI)',\n",
       " 'Hiroki Nakayama (Hironsan)',\n",
       " 'Brandon (brandonroberts)',\n",
       " 'Tim Holman (tholman)',\n",
       " 'Danilo Woznica (danilowoz)',\n",
       " 'Niels Lohmann (nlohmann)',\n",
       " 'Mr.doob (mrdoob)',\n",
       " 'Sérgio Gomes (sgomes)',\n",
       " 'Ross Wightman (rwightman)',\n",
       " 'Samuel Colvin (samuelcolvin)',\n",
       " 'Jordi Boggiano (Seldaek)',\n",
       " 'Pomax (Pomax)',\n",
       " '二货机器人 (zombieJ)',\n",
       " 'Sebastián Ramírez (tiangolo)',\n",
       " 'Marcin Krzyzanowski (krzyzanowskim)',\n",
       " 'Travis Tidwell (travist)',\n",
       " 'Omry Yadan (omry)',\n",
       " 'James Jackson-South (JimBobSquarePants)',\n",
       " 'Tyler Neely (spacejam)',\n",
       " 'chriseth ()',\n",
       " 'Juliette (jrfnl)']"
      ]
     },
     "execution_count": 88,
     "metadata": {},
     "output_type": "execute_result"
    }
   ],
   "source": [
    "# your code here\n",
    "divs = soup.find_all('div', {'class': 'col-sm-8 d-md-flex'})\n",
    "rows = [row.text.strip().split('\\n') for row in divs]\n",
    "devs = [f'{info[0].strip()} ({info[4].strip()})' for info in rows] \n",
    "devs"
   ]
  },
  {
   "cell_type": "markdown",
   "metadata": {},
   "source": [
    "#### Display the trending Python repositories in GitHub.\n",
    "\n",
    "The steps to solve this problem is similar to the previous one except that you need to find out the repository names instead of developer names."
   ]
  },
  {
   "cell_type": "code",
   "execution_count": 89,
   "metadata": {},
   "outputs": [],
   "source": [
    "# This is the url you will scrape in this exercise\n",
    "url = 'https://github.com/trending/python?since=daily'"
   ]
  },
  {
   "cell_type": "code",
   "execution_count": 90,
   "metadata": {},
   "outputs": [
    {
     "data": {
      "text/plain": [
       "['pythonstock / stock',\n",
       " 'floodsung / Deep-Learning-Papers-Reading-Roadmap',\n",
       " 'd2l-ai / d2l-en',\n",
       " 'pandas-dev / pandas',\n",
       " 'Pitt-CSC / Summer2021-Internships',\n",
       " 'openai / gym',\n",
       " 'foxlet / macOS-Simple-KVM',\n",
       " 'apache / incubator-superset',\n",
       " 'talkpython / python-for-absolute-beginners-course',\n",
       " 'tensorflow / models',\n",
       " 'cojocchen / covid19_critically_ill',\n",
       " 'PyTorchLightning / pytorch-lightning',\n",
       " 'pre-commit / pre-commit',\n",
       " 'python / mypy',\n",
       " 'openai / gpt-2',\n",
       " 'vt-vl-lab / 3d-photo-inpainting',\n",
       " 'nccgroup / ScoutSuite',\n",
       " 'scikit-learn / scikit-learn',\n",
       " 'deepinsight / insightface',\n",
       " 'kotartemiy / pygooglenews',\n",
       " 'ansible / ansible',\n",
       " 'thu-ml / tianshou',\n",
       " 'BaruYogesh / Spring2021Internships',\n",
       " 'zalando / patroni',\n",
       " 'netbox-community / netbox']"
      ]
     },
     "execution_count": 90,
     "metadata": {},
     "output_type": "execute_result"
    }
   ],
   "source": [
    "# your code here\n",
    "html = requests.get(url).content\n",
    "soup = BeautifulSoup(html, 'html')\n",
    "h1s = soup.find_all('h1', {'class': 'h3 lh-condensed'})\n",
    "rows = [row.text.strip().split('\\n') for row in h1s]\n",
    "repos = [f'{info[0].strip()} {info[3].strip()}' for info in rows]\n",
    "repos"
   ]
  },
  {
   "cell_type": "markdown",
   "metadata": {},
   "source": [
    "#### Display all the image links from Walt Disney wikipedia page."
   ]
  },
  {
   "cell_type": "code",
   "execution_count": 91,
   "metadata": {},
   "outputs": [],
   "source": [
    "# This is the url you will scrape in this exercise\n",
    "url = 'https://en.wikipedia.org/wiki/Walt_Disney'"
   ]
  },
  {
   "cell_type": "code",
   "execution_count": 92,
   "metadata": {},
   "outputs": [
    {
     "data": {
      "text/plain": [
       "['//upload.wikimedia.org/wikipedia/en/thumb/e/e7/Cscr-featured.svg/20px-Cscr-featured.svg.png',\n",
       " '//upload.wikimedia.org/wikipedia/en/thumb/8/8c/Extended-protection-shackle.svg/20px-Extended-protection-shackle.svg.png',\n",
       " '//upload.wikimedia.org/wikipedia/commons/thumb/d/df/Walt_Disney_1946.JPG/220px-Walt_Disney_1946.JPG',\n",
       " '//upload.wikimedia.org/wikipedia/commons/thumb/8/87/Walt_Disney_1942_signature.svg/150px-Walt_Disney_1942_signature.svg.png',\n",
       " '//upload.wikimedia.org/wikipedia/commons/thumb/c/c4/Walt_Disney_envelope_ca._1921.jpg/220px-Walt_Disney_envelope_ca._1921.jpg',\n",
       " '//upload.wikimedia.org/wikipedia/commons/thumb/4/4d/Newman_Laugh-O-Gram_%281921%29.webm/220px-seek%3D2-Newman_Laugh-O-Gram_%281921%29.webm.jpg',\n",
       " '//upload.wikimedia.org/wikipedia/commons/thumb/0/0d/Trolley_Troubles_poster.jpg/170px-Trolley_Troubles_poster.jpg',\n",
       " '//upload.wikimedia.org/wikipedia/commons/thumb/7/71/Walt_Disney_and_his_cartoon_creation_%22Mickey_Mouse%22_-_National_Board_of_Review_Magazine.jpg/170px-Walt_Disney_and_his_cartoon_creation_%22Mickey_Mouse%22_-_National_Board_of_Review_Magazine.jpg',\n",
       " '//upload.wikimedia.org/wikipedia/en/thumb/4/4e/Steamboat-willie.jpg/170px-Steamboat-willie.jpg',\n",
       " '//upload.wikimedia.org/wikipedia/commons/thumb/5/57/Walt_Disney_1935.jpg/170px-Walt_Disney_1935.jpg',\n",
       " '//upload.wikimedia.org/wikipedia/commons/thumb/c/cd/Walt_Disney_Snow_white_1937_trailer_screenshot_%2813%29.jpg/220px-Walt_Disney_Snow_white_1937_trailer_screenshot_%2813%29.jpg',\n",
       " '//upload.wikimedia.org/wikipedia/commons/thumb/1/15/Disney_drawing_goofy.jpg/170px-Disney_drawing_goofy.jpg',\n",
       " '//upload.wikimedia.org/wikipedia/commons/thumb/1/13/DisneySchiphol1951.jpg/220px-DisneySchiphol1951.jpg',\n",
       " '//upload.wikimedia.org/wikipedia/commons/thumb/8/8c/WaltDisneyplansDisneylandDec1954.jpg/220px-WaltDisneyplansDisneylandDec1954.jpg',\n",
       " '//upload.wikimedia.org/wikipedia/commons/thumb/f/ff/Walt_disney_portrait_right.jpg/170px-Walt_disney_portrait_right.jpg',\n",
       " '//upload.wikimedia.org/wikipedia/commons/thumb/1/1a/Walt_Disney_Grave.JPG/170px-Walt_Disney_Grave.JPG',\n",
       " '//upload.wikimedia.org/wikipedia/commons/thumb/2/2d/Roy_O._Disney_with_Company_at_Press_Conference.jpg/170px-Roy_O._Disney_with_Company_at_Press_Conference.jpg',\n",
       " '//upload.wikimedia.org/wikipedia/commons/thumb/a/a9/Disney_Display_Case.JPG/170px-Disney_Display_Case.JPG',\n",
       " '//upload.wikimedia.org/wikipedia/commons/thumb/6/6c/Disney1968.jpg/170px-Disney1968.jpg',\n",
       " '//upload.wikimedia.org/wikipedia/en/thumb/8/8a/OOjs_UI_icon_edit-ltr-progressive.svg/10px-OOjs_UI_icon_edit-ltr-progressive.svg.png',\n",
       " '//upload.wikimedia.org/wikipedia/commons/thumb/4/44/The_Walt_Disney_Company_Logo.svg/120px-The_Walt_Disney_Company_Logo.svg.png',\n",
       " '//upload.wikimedia.org/wikipedia/commons/thumb/d/da/Animation_disc.svg/30px-Animation_disc.svg.png',\n",
       " '//upload.wikimedia.org/wikipedia/en/thumb/6/69/P_vip.svg/29px-P_vip.svg.png',\n",
       " '//upload.wikimedia.org/wikipedia/commons/thumb/1/1a/Magic_Kingdom_castle.jpg/24px-Magic_Kingdom_castle.jpg',\n",
       " '//upload.wikimedia.org/wikipedia/en/thumb/e/e7/Video-x-generic.svg/30px-Video-x-generic.svg.png',\n",
       " '//upload.wikimedia.org/wikipedia/commons/thumb/a/a3/Flag_of_Los_Angeles_County%2C_California.svg/30px-Flag_of_Los_Angeles_County%2C_California.svg.png',\n",
       " '//upload.wikimedia.org/wikipedia/commons/thumb/8/8c/Blank_television_set.svg/30px-Blank_television_set.svg.png',\n",
       " '//upload.wikimedia.org/wikipedia/en/thumb/a/a4/Flag_of_the_United_States.svg/30px-Flag_of_the_United_States.svg.png',\n",
       " '//upload.wikimedia.org/wikipedia/en/thumb/4/4a/Commons-logo.svg/22px-Commons-logo.svg.png',\n",
       " '//upload.wikimedia.org/wikipedia/commons/thumb/f/fa/Wikiquote-logo.svg/25px-Wikiquote-logo.svg.png',\n",
       " '//upload.wikimedia.org/wikipedia/commons/thumb/f/ff/Wikidata-logo.svg/30px-Wikidata-logo.svg.png',\n",
       " '//upload.wikimedia.org/wikipedia/en/thumb/8/8a/OOjs_UI_icon_edit-ltr-progressive.svg/10px-OOjs_UI_icon_edit-ltr-progressive.svg.png',\n",
       " '//en.wikipedia.org/wiki/Special:CentralAutoLogin/start?type=1x1',\n",
       " '/static/images/wikimedia-button.png',\n",
       " '/static/images/poweredby_mediawiki_88x31.png']"
      ]
     },
     "execution_count": 92,
     "metadata": {},
     "output_type": "execute_result"
    }
   ],
   "source": [
    "# your code here\n",
    "html = requests.get(url).content\n",
    "soup = BeautifulSoup(html, 'html')\n",
    "imgs = soup.find_all('img')\n",
    "links = [img['src'] for img in imgs]\n",
    "links\n"
   ]
  },
  {
   "cell_type": "markdown",
   "metadata": {},
   "source": [
    "#### Retrieve an arbitary Wikipedia page of \"Python\" and create a list of links on that page."
   ]
  },
  {
   "cell_type": "code",
   "execution_count": 97,
   "metadata": {},
   "outputs": [],
   "source": [
    "# This is the url you will scrape in this exercise\n",
    "url = 'https://en.wikipedia.org/wiki/Python' "
   ]
  },
  {
   "cell_type": "code",
   "execution_count": 103,
   "metadata": {},
   "outputs": [
    {
     "data": {
      "text/plain": [
       "[<a id=\"top\"></a>,\n",
       " <a class=\"mw-jump-link\" href=\"#mw-head\">Jump to navigation</a>,\n",
       " <a class=\"mw-jump-link\" href=\"#searchInput\">Jump to search</a>,\n",
       " <a href=\"/wiki/Special:SiteMatrix\" title=\"Special:SiteMatrix\">sister projects</a>,\n",
       " <a class=\"image\" href=\"/wiki/File:Wiktionary-logo-v2.svg\"><img alt=\"Wiktionary-logo-v2.svg\" data-file-height=\"391\" data-file-width=\"391\" decoding=\"async\" height=\"30\" src=\"//upload.wikimedia.org/wikipedia/en/thumb/0/06/Wiktionary-logo-v2.svg/30px-Wiktionary-logo-v2.svg.png\" srcset=\"//upload.wikimedia.org/wikipedia/en/thumb/0/06/Wiktionary-logo-v2.svg/45px-Wiktionary-logo-v2.svg.png 1.5x, //upload.wikimedia.org/wikipedia/en/thumb/0/06/Wiktionary-logo-v2.svg/60px-Wiktionary-logo-v2.svg.png 2x\" width=\"30\"/></a>,\n",
       " <a class=\"extiw\" href=\"https://en.wiktionary.org/wiki/Special:Search/Python/wiki/Python_(genus)\" title=\"wiktionary:Special:Search/Python/wiki/Python (genus)\">Wiktionary</a>,\n",
       " <a class=\"image\" href=\"/wiki/File:Wikibooks-logo.svg\"><img alt=\"Wikibooks-logo.svg\" data-file-height=\"300\" data-file-width=\"300\" decoding=\"async\" height=\"30\" src=\"//upload.wikimedia.org/wikipedia/commons/thumb/f/fa/Wikibooks-logo.svg/30px-Wikibooks-logo.svg.png\" srcset=\"//upload.wikimedia.org/wikipedia/commons/thumb/f/fa/Wikibooks-logo.svg/45px-Wikibooks-logo.svg.png 1.5x, //upload.wikimedia.org/wikipedia/commons/thumb/f/fa/Wikibooks-logo.svg/60px-Wikibooks-logo.svg.png 2x\" width=\"30\"/></a>,\n",
       " <a class=\"extiw\" href=\"https://en.wikibooks.org/wiki/Special:Search/Python/wiki/Python_(genus)\" title=\"wikibooks:Special:Search/Python/wiki/Python (genus)\">Wikibooks</a>,\n",
       " <a class=\"image\" href=\"/wiki/File:Wikiquote-logo.svg\"><img alt=\"Wikiquote-logo.svg\" data-file-height=\"355\" data-file-width=\"300\" decoding=\"async\" height=\"30\" src=\"//upload.wikimedia.org/wikipedia/commons/thumb/f/fa/Wikiquote-logo.svg/25px-Wikiquote-logo.svg.png\" srcset=\"//upload.wikimedia.org/wikipedia/commons/thumb/f/fa/Wikiquote-logo.svg/38px-Wikiquote-logo.svg.png 1.5x, //upload.wikimedia.org/wikipedia/commons/thumb/f/fa/Wikiquote-logo.svg/51px-Wikiquote-logo.svg.png 2x\" width=\"25\"/></a>,\n",
       " <a class=\"extiw\" href=\"https://en.wikiquote.org/wiki/Special:Search/Python/wiki/Python_(genus)\" title=\"wikiquote:Special:Search/Python/wiki/Python (genus)\">Wikiquote</a>,\n",
       " <a class=\"image\" href=\"/wiki/File:Wikisource-logo.svg\"><img alt=\"Wikisource-logo.svg\" data-file-height=\"430\" data-file-width=\"410\" decoding=\"async\" height=\"30\" src=\"//upload.wikimedia.org/wikipedia/commons/thumb/4/4c/Wikisource-logo.svg/29px-Wikisource-logo.svg.png\" srcset=\"//upload.wikimedia.org/wikipedia/commons/thumb/4/4c/Wikisource-logo.svg/43px-Wikisource-logo.svg.png 1.5x, //upload.wikimedia.org/wikipedia/commons/thumb/4/4c/Wikisource-logo.svg/57px-Wikisource-logo.svg.png 2x\" width=\"29\"/></a>,\n",
       " <a class=\"extiw\" href=\"https://en.wikisource.org/wiki/Special:Search/Python/wiki/Python_(genus)\" title=\"wikisource:Special:Search/Python/wiki/Python (genus)\">Wikisource</a>,\n",
       " <a class=\"image\" href=\"/wiki/File:Wikiversity-logo.svg\"><img alt=\"Wikiversity-logo.svg\" data-file-height=\"800\" data-file-width=\"1000\" decoding=\"async\" height=\"24\" src=\"//upload.wikimedia.org/wikipedia/commons/thumb/9/91/Wikiversity-logo.svg/30px-Wikiversity-logo.svg.png\" srcset=\"//upload.wikimedia.org/wikipedia/commons/thumb/9/91/Wikiversity-logo.svg/45px-Wikiversity-logo.svg.png 1.5x, //upload.wikimedia.org/wikipedia/commons/thumb/9/91/Wikiversity-logo.svg/60px-Wikiversity-logo.svg.png 2x\" width=\"30\"/></a>,\n",
       " <a class=\"extiw\" href=\"https://en.wikiversity.org/wiki/Special:Search/Python/wiki/Python_(genus)\" title=\"wikiversity:Special:Search/Python/wiki/Python (genus)\">Wikiversity</a>,\n",
       " <a class=\"image\" href=\"/wiki/File:Commons-logo.svg\"><img alt=\"Commons-logo.svg\" data-file-height=\"1376\" data-file-width=\"1024\" decoding=\"async\" height=\"30\" src=\"//upload.wikimedia.org/wikipedia/en/thumb/4/4a/Commons-logo.svg/22px-Commons-logo.svg.png\" srcset=\"//upload.wikimedia.org/wikipedia/en/thumb/4/4a/Commons-logo.svg/33px-Commons-logo.svg.png 1.5x, //upload.wikimedia.org/wikipedia/en/thumb/4/4a/Commons-logo.svg/45px-Commons-logo.svg.png 2x\" width=\"22\"/></a>,\n",
       " <a class=\"extiw\" href=\"https://commons.wikimedia.org/wiki/Special:Search/Python/wiki/Python_(genus)\" title=\"commons:Special:Search/Python/wiki/Python (genus)\">Commons</a>,\n",
       " <a class=\"image\" href=\"/wiki/File:Wikivoyage-Logo-v3-icon.svg\"><img alt=\"Wikivoyage-Logo-v3-icon.svg\" data-file-height=\"193\" data-file-width=\"193\" decoding=\"async\" height=\"30\" src=\"//upload.wikimedia.org/wikipedia/commons/thumb/d/dd/Wikivoyage-Logo-v3-icon.svg/30px-Wikivoyage-Logo-v3-icon.svg.png\" srcset=\"//upload.wikimedia.org/wikipedia/commons/thumb/d/dd/Wikivoyage-Logo-v3-icon.svg/45px-Wikivoyage-Logo-v3-icon.svg.png 1.5x, //upload.wikimedia.org/wikipedia/commons/thumb/d/dd/Wikivoyage-Logo-v3-icon.svg/60px-Wikivoyage-Logo-v3-icon.svg.png 2x\" width=\"30\"/></a>,\n",
       " <a class=\"extiw\" href=\"https://en.wikivoyage.org/wiki/Special:Search/Python/wiki/Python_(genus)\" title=\"wikivoyage:Special:Search/Python/wiki/Python (genus)\">Wikivoyage</a>,\n",
       " <a class=\"image\" href=\"/wiki/File:Wikinews-logo.svg\"><img alt=\"Wikinews-logo.svg\" data-file-height=\"415\" data-file-width=\"759\" decoding=\"async\" height=\"16\" src=\"//upload.wikimedia.org/wikipedia/commons/thumb/2/24/Wikinews-logo.svg/30px-Wikinews-logo.svg.png\" srcset=\"//upload.wikimedia.org/wikipedia/commons/thumb/2/24/Wikinews-logo.svg/45px-Wikinews-logo.svg.png 1.5x, //upload.wikimedia.org/wikipedia/commons/thumb/2/24/Wikinews-logo.svg/60px-Wikinews-logo.svg.png 2x\" width=\"30\"/></a>,\n",
       " <a class=\"extiw\" href=\"https://en.wikinews.org/wiki/Special:Search/Python/wiki/Python_(genus)\" title=\"wikinews:Special:Search/Python/wiki/Python (genus)\">Wikinews</a>,\n",
       " <a class=\"image\" href=\"/wiki/File:Wikidata-logo.svg\"><img alt=\"Wikidata-logo.svg\" data-file-height=\"590\" data-file-width=\"1050\" decoding=\"async\" height=\"17\" src=\"//upload.wikimedia.org/wikipedia/commons/thumb/f/ff/Wikidata-logo.svg/30px-Wikidata-logo.svg.png\" srcset=\"//upload.wikimedia.org/wikipedia/commons/thumb/f/ff/Wikidata-logo.svg/45px-Wikidata-logo.svg.png 1.5x, //upload.wikimedia.org/wikipedia/commons/thumb/f/ff/Wikidata-logo.svg/60px-Wikidata-logo.svg.png 2x\" width=\"30\"/></a>,\n",
       " <a class=\"extiw\" href=\"https://www.wikidata.org/wiki/Special:Search/Python/wiki/Python_(genus)\" title=\"wikidata:Special:Search/Python/wiki/Python (genus)\">Wikidata</a>,\n",
       " <a class=\"external text\" href=\"https://en.wikipedia.org/w/index.php?search=Python%2Fwiki%2FPython+%28genus%29&amp;title=Special%3ASearch&amp;fulltext=1\">search for <i>Python/wiki/Python (genus)</i> in Wikipedia</a>,\n",
       " <a class=\"external text\" href=\"https://en.wikipedia.org/w/index.php?title=Special:UserLogin&amp;returnto=Python%2Fwiki%2FPython+%28genus%29\">Log in or create an account</a>,\n",
       " <a href=\"/wiki/Wikipedia:Article_wizard\" title=\"Wikipedia:Article wizard\">Article Wizard</a>,\n",
       " <a href=\"/wiki/Wikipedia:Requested_articles\" title=\"Wikipedia:Requested articles\">add a request for it</a>,\n",
       " <a class=\"external text\" href=\"https://en.wikipedia.org/w/index.php?search=Python%2Fwiki%2FPython+%28genus%29&amp;title=Special%3ASearch&amp;fulltext=1&amp;ns0=1\">Search for \"<i>Python/wiki/Python (genus)</i>\"</a>,\n",
       " <a href=\"/wiki/Special:WhatLinksHere/Python/wiki/Python_(genus)\" title=\"Special:WhatLinksHere/Python/wiki/Python (genus)\">Look for pages within Wikipedia that link to this title</a>,\n",
       " <a class=\"external text\" href=\"https://en.wikipedia.org/w/index.php?title=Python/wiki/Python_(genus)&amp;action=purge\">try the purge function</a>,\n",
       " <a href=\"/wiki/Case_sensitivity\" title=\"Case sensitivity\">case sensitive</a>,\n",
       " <a class=\"external text\" href=\"https://en.wikipedia.org/w/index.php?search=Python%2Fwiki%2FPython+%28genus%29&amp;title=Special%3ASearch&amp;fulltext=1\">check alternative capitalizations</a>,\n",
       " <a href=\"/wiki/Wikipedia:Redirect\" title=\"Wikipedia:Redirect\">redirect</a>,\n",
       " <a class=\"external text\" href=\"https://en.wikipedia.org/w/index.php?title=Special:Log/delete&amp;page=Python/wiki/Python_(genus)\">check the <b>deletion log</b></a>,\n",
       " <a href=\"/wiki/Wikipedia:Why_was_the_page_I_created_deleted%3F\" title=\"Wikipedia:Why was the page I created deleted?\">Why was the page I created deleted?</a>,\n",
       " <a dir=\"ltr\" href=\"https://en.wikipedia.org/wiki/Python/wiki/Python_(genus)\">https://en.wikipedia.org/wiki/Python/wiki/Python_(genus)</a>,\n",
       " <a accesskey=\"n\" href=\"/wiki/Special:MyTalk\" title=\"Discussion about edits from this IP address [n]\">Talk</a>,\n",
       " <a accesskey=\"y\" href=\"/wiki/Special:MyContributions\" title=\"A list of edits made from this IP address [y]\">Contributions</a>,\n",
       " <a href=\"/w/index.php?title=Special:CreateAccount&amp;returnto=Python%2Fwiki%2FPython+%28genus%29\" title=\"You are encouraged to create an account and log in; however, it is not mandatory\">Create account</a>,\n",
       " <a accesskey=\"o\" href=\"/w/index.php?title=Special:UserLogin&amp;returnto=Python%2Fwiki%2FPython+%28genus%29\" title=\"You're encouraged to log in; however, it's not mandatory. [o]\">Log in</a>,\n",
       " <a accesskey=\"c\" href=\"/w/index.php?title=Python/wiki/Python_(genus)&amp;action=edit&amp;redlink=1\" title=\"View the content page (page does not exist) [c]\">Article</a>,\n",
       " <a accesskey=\"t\" href=\"/w/index.php?title=Talk:Python/wiki/Python_(genus)&amp;action=edit&amp;redlink=1\" rel=\"discussion\" title=\"Discuss improvements to the content page (page does not exist) [t]\">Talk</a>,\n",
       " <a class=\"mw-wiki-logo\" href=\"/wiki/Main_Page\" title=\"Visit the main page\"></a>,\n",
       " <a accesskey=\"z\" href=\"/wiki/Main_Page\" title=\"Visit the main page [z]\">Main page</a>,\n",
       " <a href=\"/wiki/Wikipedia:Contents\" title=\"Guides to browsing Wikipedia\">Contents</a>,\n",
       " <a href=\"/wiki/Portal:Current_events\" title=\"Find background information on current events\">Current events</a>,\n",
       " <a accesskey=\"x\" href=\"/wiki/Special:Random\" title=\"Visit a randomly selected article [x]\">Random article</a>,\n",
       " <a href=\"/wiki/Wikipedia:About\" title=\"Learn about Wikipedia and how it works\">About Wikipedia</a>,\n",
       " <a href=\"//en.wikipedia.org/wiki/Wikipedia:Contact_us\" title=\"How to contact Wikipedia\">Contact us</a>,\n",
       " <a href=\"https://donate.wikimedia.org/wiki/Special:FundraiserRedirector?utm_source=donate&amp;utm_medium=sidebar&amp;utm_campaign=C13_en.wikipedia.org&amp;uselang=en\" title=\"Support us by donating to the Wikimedia Foundation\">Donate</a>,\n",
       " <a href=\"//shop.wikimedia.org\" title=\"Visit the Wikipedia store\">Wikipedia store</a>,\n",
       " <a href=\"/wiki/Help:Contents\" title=\"Guidance on how to use and edit Wikipedia\">Help</a>,\n",
       " <a href=\"/wiki/Wikipedia:Community_portal\" title=\"About the project, what you can do, where to find things\">Community portal</a>,\n",
       " <a accesskey=\"r\" href=\"/wiki/Special:RecentChanges\" title=\"A list of recent changes to Wikipedia [r]\">Recent changes</a>,\n",
       " <a href=\"/wiki/Wikipedia:File_Upload_Wizard\" title=\"Add images or other media for use on Wikipedia\">Upload file</a>,\n",
       " <a accesskey=\"j\" href=\"/wiki/Special:WhatLinksHere/Python/wiki/Python_(genus)\" title=\"List of all English Wikipedia pages containing links to this page [j]\">What links here</a>,\n",
       " <a accesskey=\"u\" href=\"/wiki/Wikipedia:File_Upload_Wizard\" title=\"Upload files [u]\">Upload file</a>,\n",
       " <a accesskey=\"q\" href=\"/wiki/Special:SpecialPages\" title=\"A list of all special pages [q]\">Special pages</a>,\n",
       " <a accesskey=\"p\" href=\"/w/index.php?title=Python/wiki/Python_(genus)&amp;printable=yes\" rel=\"alternate\" title=\"Printable version of this page [p]\">Printable version</a>,\n",
       " <a href=\"/w/index.php?title=Python/wiki/Python_(genus)&amp;action=info\" title=\"More information about this page\">Page information</a>,\n",
       " <a class=\"extiw\" href=\"https://foundation.wikimedia.org/wiki/Privacy_policy\" title=\"wmf:Privacy policy\">Privacy policy</a>,\n",
       " <a href=\"/wiki/Wikipedia:About\" title=\"Wikipedia:About\">About Wikipedia</a>,\n",
       " <a href=\"/wiki/Wikipedia:General_disclaimer\" title=\"Wikipedia:General disclaimer\">Disclaimers</a>,\n",
       " <a href=\"//en.wikipedia.org/wiki/Wikipedia:Contact_us\">Contact Wikipedia</a>,\n",
       " <a href=\"https://www.mediawiki.org/wiki/Special:MyLanguage/How_to_contribute\">Developers</a>,\n",
       " <a href=\"https://stats.wikimedia.org/#/en.wikipedia.org\">Statistics</a>,\n",
       " <a href=\"https://foundation.wikimedia.org/wiki/Cookie_statement\">Cookie statement</a>,\n",
       " <a class=\"noprint stopMobileRedirectToggle\" href=\"//en.m.wikipedia.org/w/index.php?title=Python/wiki/Python_(genus)&amp;mobileaction=toggle_view_mobile\">Mobile view</a>,\n",
       " <a href=\"https://wikimediafoundation.org/\"><img alt=\"Wikimedia Foundation\" height=\"31\" loading=\"lazy\" src=\"/static/images/wikimedia-button.png\" srcset=\"/static/images/wikimedia-button-1.5x.png 1.5x, /static/images/wikimedia-button-2x.png 2x\" width=\"88\"/></a>,\n",
       " <a href=\"https://www.mediawiki.org/\"><img alt=\"Powered by MediaWiki\" height=\"31\" loading=\"lazy\" src=\"/static/images/poweredby_mediawiki_88x31.png\" srcset=\"/static/images/poweredby_mediawiki_132x47.png 1.5x, /static/images/poweredby_mediawiki_176x62.png 2x\" width=\"88\"/></a>]"
      ]
     },
     "execution_count": 103,
     "metadata": {},
     "output_type": "execute_result"
    }
   ],
   "source": [
    "# your code here\n",
    "html = requests.get(url).content\n",
    "soup = BeautifulSoup(html, 'html')\n",
    "links = soup.find_all('a', href = re.compile(r'^/wiki/Python*'))\n",
    "wiki_url = 'https://en.wikipedia.org'\n",
    "random_html = requests.get(url + random.choice(links)['href']).content\n",
    "random_soup = BeautifulSoup(random_html, 'html')\n",
    "random_python_links = random_soup.find_all('a')\n",
    "random_python_links"
   ]
  },
  {
   "cell_type": "markdown",
   "metadata": {},
   "source": [
    "#### Find the number of titles that have changed in the United States Code since its last release point."
   ]
  },
  {
   "cell_type": "code",
   "execution_count": 107,
   "metadata": {},
   "outputs": [],
   "source": [
    "# This is the url you will scrape in this exercise\n",
    "url = 'http://uscode.house.gov/download/download.shtml'"
   ]
  },
  {
   "cell_type": "code",
   "execution_count": 110,
   "metadata": {},
   "outputs": [
    {
     "data": {
      "text/plain": [
       "1"
      ]
     },
     "execution_count": 110,
     "metadata": {},
     "output_type": "execute_result"
    }
   ],
   "source": [
    "# your code here\n",
    "html = requests.get(url).content\n",
    "soup = BeautifulSoup(html, 'html')\n",
    "links = soup.find_all('div', {'class': 'usctitlechanged'})\n",
    "changed_titles = [link.text.strip() for link in links]\n",
    "len(changed_titles)"
   ]
  },
  {
   "cell_type": "markdown",
   "metadata": {},
   "source": [
    "#### Find a Python list with the top ten FBI's Most Wanted names."
   ]
  },
  {
   "cell_type": "code",
   "execution_count": 111,
   "metadata": {},
   "outputs": [],
   "source": [
    "# This is the url you will scrape in this exercise\n",
    "url = 'https://www.fbi.gov/wanted/topten'"
   ]
  },
  {
   "cell_type": "code",
   "execution_count": 113,
   "metadata": {},
   "outputs": [
    {
     "data": {
      "text/plain": [
       "['ROBERT WILLIAM FISHER',\n",
       " 'BHADRESHKUMAR CHETANBHAI PATEL',\n",
       " 'ALEJANDRO ROSALES CASTILLO',\n",
       " 'ARNOLDO JIMENEZ',\n",
       " 'JASON DEREK BROWN',\n",
       " 'YASER ABDEL SAID',\n",
       " 'ALEXIS FLORES',\n",
       " 'EUGENE PALMER',\n",
       " 'SANTIAGO VILLALBA MEDEROS',\n",
       " 'RAFAEL CARO-QUINTERO']"
      ]
     },
     "execution_count": 113,
     "metadata": {},
     "output_type": "execute_result"
    }
   ],
   "source": [
    "# your code here\n",
    "html = requests.get(url).content\n",
    "soup = BeautifulSoup(html, 'html')\n",
    "most_wanted = soup.find_all('h3', {'class': 'title'})\n",
    "mw_names = [name.text.strip() for name in most_wanted]\n",
    "mw_names"
   ]
  },
  {
   "cell_type": "markdown",
   "metadata": {},
   "source": [
    "####  Display the 20 latest earthquakes info (date, time, latitude, longitude and region name) by the EMSC as a pandas dataframe."
   ]
  },
  {
   "cell_type": "code",
   "execution_count": 122,
   "metadata": {},
   "outputs": [],
   "source": [
    "# This is the url you will scrape in this exercise\n",
    "url = 'https://www.emsc-csem.org/Earthquake/'"
   ]
  },
  {
   "cell_type": "code",
   "execution_count": 181,
   "metadata": {},
   "outputs": [
    {
     "data": {
      "text/html": [
       "<div>\n",
       "<style scoped>\n",
       "    .dataframe tbody tr th:only-of-type {\n",
       "        vertical-align: middle;\n",
       "    }\n",
       "\n",
       "    .dataframe tbody tr th {\n",
       "        vertical-align: top;\n",
       "    }\n",
       "\n",
       "    .dataframe thead th {\n",
       "        text-align: right;\n",
       "    }\n",
       "</style>\n",
       "<table border=\"1\" class=\"dataframe\">\n",
       "  <thead>\n",
       "    <tr style=\"text-align: right;\">\n",
       "      <th></th>\n",
       "      <th>Date &amp; Time UTC</th>\n",
       "      <th>Latitude degrees</th>\n",
       "      <th>Longitude degrees</th>\n",
       "      <th>Region name  [+]</th>\n",
       "    </tr>\n",
       "  </thead>\n",
       "  <tbody>\n",
       "    <tr>\n",
       "      <th>0</th>\n",
       "      <td>earthquake2020-07-23   15:56:20.019min ago</td>\n",
       "      <td>2.53S</td>\n",
       "      <td>121.18E</td>\n",
       "      <td>SULAWESI, INDONESIA</td>\n",
       "    </tr>\n",
       "    <tr>\n",
       "      <th>1</th>\n",
       "      <td>earthquake2020-07-23   15:47:42.728min ago</td>\n",
       "      <td>56.18N</td>\n",
       "      <td>164.33E</td>\n",
       "      <td>KOMANDORSKIYE OSTROVA REGION</td>\n",
       "    </tr>\n",
       "    <tr>\n",
       "      <th>2</th>\n",
       "      <td>earthquake2020-07-23   15:21:31.054min ago</td>\n",
       "      <td>24.06S</td>\n",
       "      <td>69.77W</td>\n",
       "      <td>ANTOFAGASTA, CHILE</td>\n",
       "    </tr>\n",
       "    <tr>\n",
       "      <th>3</th>\n",
       "      <td>earthquake2020-07-23   15:05:00.01hr 11min ago</td>\n",
       "      <td>5.99N</td>\n",
       "      <td>123.81E</td>\n",
       "      <td>CELEBES SEA</td>\n",
       "    </tr>\n",
       "    <tr>\n",
       "      <th>4</th>\n",
       "      <td>earthquake2020-07-23   15:03:01.01hr 13min ago</td>\n",
       "      <td>2.45S</td>\n",
       "      <td>121.17E</td>\n",
       "      <td>SULAWESI, INDONESIA</td>\n",
       "    </tr>\n",
       "    <tr>\n",
       "      <th>5</th>\n",
       "      <td>earthquake2020-07-23   14:58:11.31hr 17min ago</td>\n",
       "      <td>54.95N</td>\n",
       "      <td>158.55W</td>\n",
       "      <td>SOUTH OF ALASKA</td>\n",
       "    </tr>\n",
       "    <tr>\n",
       "      <th>6</th>\n",
       "      <td>earthquake2020-07-23   14:27:55.01hr 48min ago</td>\n",
       "      <td>0.73S</td>\n",
       "      <td>122.37E</td>\n",
       "      <td>SULAWESI, INDONESIA</td>\n",
       "    </tr>\n",
       "    <tr>\n",
       "      <th>7</th>\n",
       "      <td>earthquake2020-07-23   14:20:40.91hr 55min ago</td>\n",
       "      <td>38.53N</td>\n",
       "      <td>27.52E</td>\n",
       "      <td>WESTERN TURKEY</td>\n",
       "    </tr>\n",
       "    <tr>\n",
       "      <th>8</th>\n",
       "      <td>earthquake2020-07-23   14:18:48.31hr 57min ago</td>\n",
       "      <td>19.21N</td>\n",
       "      <td>155.40W</td>\n",
       "      <td>ISLAND OF HAWAII, HAWAII</td>\n",
       "    </tr>\n",
       "    <tr>\n",
       "      <th>9</th>\n",
       "      <td>earthquake2020-07-23   13:41:35.42hr 34min ago</td>\n",
       "      <td>38.16N</td>\n",
       "      <td>118.01W</td>\n",
       "      <td>NEVADA</td>\n",
       "    </tr>\n",
       "    <tr>\n",
       "      <th>10</th>\n",
       "      <td>earthquake2020-07-23   13:35:19.02hr 40min ago</td>\n",
       "      <td>20.00S</td>\n",
       "      <td>69.11W</td>\n",
       "      <td>TARAPACA, CHILE</td>\n",
       "    </tr>\n",
       "    <tr>\n",
       "      <th>11</th>\n",
       "      <td>earthquake2020-07-23   13:32:18.92hr 43min ago</td>\n",
       "      <td>18.46N</td>\n",
       "      <td>65.89W</td>\n",
       "      <td>PUERTO RICO REGION</td>\n",
       "    </tr>\n",
       "    <tr>\n",
       "      <th>12</th>\n",
       "      <td>earthquake2020-07-23   13:20:35.02hr 55min ago</td>\n",
       "      <td>41.50S</td>\n",
       "      <td>73.81W</td>\n",
       "      <td>LOS LAGOS, CHILE</td>\n",
       "    </tr>\n",
       "    <tr>\n",
       "      <th>13</th>\n",
       "      <td>earthquake2020-07-23   13:19:26.12hr 56min ago</td>\n",
       "      <td>17.57S</td>\n",
       "      <td>70.91W</td>\n",
       "      <td>SOUTHERN PERU</td>\n",
       "    </tr>\n",
       "    <tr>\n",
       "      <th>14</th>\n",
       "      <td>earthquake2020-07-23   13:19:07.92hr 56min ago</td>\n",
       "      <td>36.85N</td>\n",
       "      <td>142.21E</td>\n",
       "      <td>OFF EAST COAST OF HONSHU, JAPAN</td>\n",
       "    </tr>\n",
       "    <tr>\n",
       "      <th>15</th>\n",
       "      <td>earthquake2020-07-23   13:12:41.53hr 03min ago</td>\n",
       "      <td>19.27N</td>\n",
       "      <td>155.44W</td>\n",
       "      <td>ISLAND OF HAWAII, HAWAII</td>\n",
       "    </tr>\n",
       "    <tr>\n",
       "      <th>16</th>\n",
       "      <td>earthquake2020-07-23   13:08:27.33hr 07min ago</td>\n",
       "      <td>34.93S</td>\n",
       "      <td>179.29E</td>\n",
       "      <td>SOUTH OF KERMADEC ISLANDS</td>\n",
       "    </tr>\n",
       "    <tr>\n",
       "      <th>17</th>\n",
       "      <td>earthquake2020-07-23   12:47:33.43hr 28min ago</td>\n",
       "      <td>22.40S</td>\n",
       "      <td>67.19W</td>\n",
       "      <td>POTOSI, BOLIVIA</td>\n",
       "    </tr>\n",
       "    <tr>\n",
       "      <th>18</th>\n",
       "      <td>earthquake2020-07-23   12:32:51.73hr 43min ago</td>\n",
       "      <td>39.03N</td>\n",
       "      <td>33.29E</td>\n",
       "      <td>CENTRAL TURKEY</td>\n",
       "    </tr>\n",
       "    <tr>\n",
       "      <th>19</th>\n",
       "      <td>earthquake2020-07-23   12:23:52.63hr 52min ago</td>\n",
       "      <td>43.41N</td>\n",
       "      <td>6.71W</td>\n",
       "      <td>SPAIN</td>\n",
       "    </tr>\n",
       "  </tbody>\n",
       "</table>\n",
       "</div>"
      ],
      "text/plain": [
       "                                   Date & Time UTC Latitude degrees  \\\n",
       "0       earthquake2020-07-23   15:56:20.019min ago            2.53S   \n",
       "1       earthquake2020-07-23   15:47:42.728min ago           56.18N   \n",
       "2       earthquake2020-07-23   15:21:31.054min ago           24.06S   \n",
       "3   earthquake2020-07-23   15:05:00.01hr 11min ago            5.99N   \n",
       "4   earthquake2020-07-23   15:03:01.01hr 13min ago            2.45S   \n",
       "5   earthquake2020-07-23   14:58:11.31hr 17min ago           54.95N   \n",
       "6   earthquake2020-07-23   14:27:55.01hr 48min ago            0.73S   \n",
       "7   earthquake2020-07-23   14:20:40.91hr 55min ago           38.53N   \n",
       "8   earthquake2020-07-23   14:18:48.31hr 57min ago           19.21N   \n",
       "9   earthquake2020-07-23   13:41:35.42hr 34min ago           38.16N   \n",
       "10  earthquake2020-07-23   13:35:19.02hr 40min ago           20.00S   \n",
       "11  earthquake2020-07-23   13:32:18.92hr 43min ago           18.46N   \n",
       "12  earthquake2020-07-23   13:20:35.02hr 55min ago           41.50S   \n",
       "13  earthquake2020-07-23   13:19:26.12hr 56min ago           17.57S   \n",
       "14  earthquake2020-07-23   13:19:07.92hr 56min ago           36.85N   \n",
       "15  earthquake2020-07-23   13:12:41.53hr 03min ago           19.27N   \n",
       "16  earthquake2020-07-23   13:08:27.33hr 07min ago           34.93S   \n",
       "17  earthquake2020-07-23   12:47:33.43hr 28min ago           22.40S   \n",
       "18  earthquake2020-07-23   12:32:51.73hr 43min ago           39.03N   \n",
       "19  earthquake2020-07-23   12:23:52.63hr 52min ago           43.41N   \n",
       "\n",
       "   Longitude degrees                 Region name  [+]  \n",
       "0            121.18E              SULAWESI, INDONESIA  \n",
       "1            164.33E     KOMANDORSKIYE OSTROVA REGION  \n",
       "2             69.77W               ANTOFAGASTA, CHILE  \n",
       "3            123.81E                      CELEBES SEA  \n",
       "4            121.17E              SULAWESI, INDONESIA  \n",
       "5            158.55W                  SOUTH OF ALASKA  \n",
       "6            122.37E              SULAWESI, INDONESIA  \n",
       "7             27.52E                   WESTERN TURKEY  \n",
       "8            155.40W         ISLAND OF HAWAII, HAWAII  \n",
       "9            118.01W                           NEVADA  \n",
       "10            69.11W                  TARAPACA, CHILE  \n",
       "11            65.89W               PUERTO RICO REGION  \n",
       "12            73.81W                 LOS LAGOS, CHILE  \n",
       "13            70.91W                    SOUTHERN PERU  \n",
       "14           142.21E  OFF EAST COAST OF HONSHU, JAPAN  \n",
       "15           155.44W         ISLAND OF HAWAII, HAWAII  \n",
       "16           179.29E        SOUTH OF KERMADEC ISLANDS  \n",
       "17            67.19W                  POTOSI, BOLIVIA  \n",
       "18            33.29E                   CENTRAL TURKEY  \n",
       "19             6.71W                            SPAIN  "
      ]
     },
     "execution_count": 181,
     "metadata": {},
     "output_type": "execute_result"
    }
   ],
   "source": [
    "# your code here\n",
    "html = requests.get(url).content\n",
    "soup = BeautifulSoup(html, 'html')\n",
    "tables = soup.find_all('table')\n",
    "eq_table = tables[3]\n",
    "t_header = eq_table.find_all('th', {'class': 'th2'})\n",
    "colnames = [th.text.strip() for th in t_header if th not in [t_header[0], t_header[4], t_header[5], t_header[7]]]\n",
    "tags = eq_table.find_all('td', {'class': ['tabev1', 'tabev2', 'tabev3', 'tabev5', 'tabev6', 'tb_region']})\n",
    "rows = [row.text.strip() for row in tags]\n",
    "data = [[rows[x], f'{rows[x+1]}{rows[x+2]}', f'{rows[x+3]}{rows[x+4]}', rows[x+8]] for x in range(0, len(rows), 9)]\n",
    "df = pd.DataFrame(data, columns=colnames).head(20)\n",
    "df"
   ]
  },
  {
   "cell_type": "markdown",
   "metadata": {},
   "source": [
    "#### Count the number of tweets by a given Twitter account.\n",
    "Ask the user for the handle (@handle) of a twitter account. You will need to include a ***try/except block*** for account names not found. \n",
    "<br>***Hint:*** the program should count the number of tweets for any provided account."
   ]
  },
  {
   "cell_type": "code",
   "execution_count": null,
   "metadata": {},
   "outputs": [],
   "source": [
    "# This is the url you will scrape in this exercise \n",
    "# You will need to add the account credentials to this url\n",
    "url = 'https://twitter.com/'"
   ]
  },
  {
   "cell_type": "code",
   "execution_count": null,
   "metadata": {},
   "outputs": [],
   "source": [
    "# your code here"
   ]
  },
  {
   "cell_type": "markdown",
   "metadata": {},
   "source": [
    "#### Number of followers of a given twitter account\n",
    "Ask the user for the handle (@handle) of a twitter account. You will need to include a ***try/except block*** for account names not found. \n",
    "<br>***Hint:*** the program should count the followers for any provided account."
   ]
  },
  {
   "cell_type": "code",
   "execution_count": 210,
   "metadata": {},
   "outputs": [],
   "source": [
    "# This is the url you will scrape in this exercise \n",
    "# You will need to add the account credentials to this url\n",
    "url = 'https://twitter.com/'"
   ]
  },
  {
   "cell_type": "code",
   "execution_count": 211,
   "metadata": {},
   "outputs": [],
   "source": [
    "# your code here\n",
    "handle = 'AOC'\n",
    "try:\n",
    "    r = requests.get(f'{url}{handle}').content\n",
    "except requests.exceptions.HTTPError as errh:\n",
    "    print (\"Http Error:\",errh)\n",
    "except requests.exceptions.ConnectionError as errc:\n",
    "    print (\"Error Connecting:\",errc)\n",
    "except requests.exceptions.Timeout as errt:\n",
    "    print (\"Timeout Error:\",errt)\n",
    "except requests.exceptions.RequestException as err:\n",
    "    print (\"OOps: Something Else\",err)\n",
    "\n",
    "soup = BeautifulSoup(r, 'html')\n",
    "follow_box = soup.find('a',{'href': f'/{handle}/followers'})\n"
   ]
  },
  {
   "cell_type": "markdown",
   "metadata": {},
   "source": [
    "#### List all language names and number of related articles in the order they appear in wikipedia.org."
   ]
  },
  {
   "cell_type": "code",
   "execution_count": 212,
   "metadata": {},
   "outputs": [],
   "source": [
    "# This is the url you will scrape in this exercise\n",
    "url = 'https://www.wikipedia.org/'"
   ]
  },
  {
   "cell_type": "code",
   "execution_count": 216,
   "metadata": {},
   "outputs": [
    {
     "data": {
      "text/plain": [
       "[['English', '6 125 000+ articles'],\n",
       " ['日本語', '1 218 000+ 記事'],\n",
       " ['Español', '1 612 000+ artículos'],\n",
       " ['Deutsch', '2 458 000+ Artikel'],\n",
       " ['Русский', '1 644 000+ статей'],\n",
       " ['Français', '2 236 000+ articles'],\n",
       " ['Italiano', '1 623 000+ voci'],\n",
       " ['中文', '1 130 000+ 條目'],\n",
       " ['Português', '1 039 000+ artigos'],\n",
       " ['Polski', '1 420 000+ haseł']]"
      ]
     },
     "execution_count": 216,
     "metadata": {},
     "output_type": "execute_result"
    }
   ],
   "source": [
    "# your code here\n",
    "html = requests.get(url).content\n",
    "soup = BeautifulSoup(html, 'html')\n",
    "divs = soup.find_all('div', {'class': 'central-featured-lang'})\n",
    "languages = [lang.text.strip().replace(u'\\xa0', u' ').split('\\n') for lang in divs]\n",
    "languages"
   ]
  },
  {
   "cell_type": "markdown",
   "metadata": {},
   "source": [
    "#### A list with the different kind of datasets available in data.gov.uk."
   ]
  },
  {
   "cell_type": "code",
   "execution_count": 217,
   "metadata": {},
   "outputs": [],
   "source": [
    "# This is the url you will scrape in this exercise\n",
    "url = 'https://data.gov.uk/'"
   ]
  },
  {
   "cell_type": "code",
   "execution_count": 225,
   "metadata": {},
   "outputs": [
    {
     "data": {
      "text/plain": [
       "['Business and economy',\n",
       " 'Crime and justice',\n",
       " 'Defence',\n",
       " 'Education',\n",
       " 'Environment',\n",
       " 'Government',\n",
       " 'Government spending',\n",
       " 'Health',\n",
       " 'Mapping',\n",
       " 'Society',\n",
       " 'Towns and cities',\n",
       " 'Transport']"
      ]
     },
     "execution_count": 225,
     "metadata": {},
     "output_type": "execute_result"
    }
   ],
   "source": [
    "# your code here\n",
    "html = requests.get(url).content\n",
    "soup = BeautifulSoup(html, 'html')\n",
    "h2s = soup.find_all('a', href = re.compile(r'(topic)'))\n",
    "topics = [topic.text.strip() for topic in h2s]\n",
    "topics"
   ]
  },
  {
   "cell_type": "markdown",
   "metadata": {},
   "source": [
    "#### Display the top 10 languages by number of native speakers stored in a pandas dataframe."
   ]
  },
  {
   "cell_type": "code",
   "execution_count": 241,
   "metadata": {},
   "outputs": [],
   "source": [
    "# This is the url you will scrape in this exercise\n",
    "url = 'https://en.wikipedia.org/wiki/List_of_languages_by_number_of_native_speakers'"
   ]
  },
  {
   "cell_type": "code",
   "execution_count": 251,
   "metadata": {},
   "outputs": [
    {
     "data": {
      "text/html": [
       "<div>\n",
       "<style scoped>\n",
       "    .dataframe tbody tr th:only-of-type {\n",
       "        vertical-align: middle;\n",
       "    }\n",
       "\n",
       "    .dataframe tbody tr th {\n",
       "        vertical-align: top;\n",
       "    }\n",
       "\n",
       "    .dataframe thead th {\n",
       "        text-align: right;\n",
       "    }\n",
       "</style>\n",
       "<table border=\"1\" class=\"dataframe\">\n",
       "  <thead>\n",
       "    <tr style=\"text-align: right;\">\n",
       "      <th></th>\n",
       "      <th>Rank</th>\n",
       "      <th>Language</th>\n",
       "      <th>Speakers(millions)</th>\n",
       "      <th>% of World pop.(March 2019)[8]</th>\n",
       "      <th>Language family</th>\n",
       "      <th>Branch</th>\n",
       "    </tr>\n",
       "  </thead>\n",
       "  <tbody>\n",
       "    <tr>\n",
       "      <th>0</th>\n",
       "      <td>1</td>\n",
       "      <td>Mandarin Chinese</td>\n",
       "      <td>918</td>\n",
       "      <td>11.922</td>\n",
       "      <td>Sino-Tibetan</td>\n",
       "      <td>Sinitic</td>\n",
       "    </tr>\n",
       "    <tr>\n",
       "      <th>1</th>\n",
       "      <td>2</td>\n",
       "      <td>Spanish</td>\n",
       "      <td>480</td>\n",
       "      <td>5.994</td>\n",
       "      <td>Indo-European</td>\n",
       "      <td>Romance</td>\n",
       "    </tr>\n",
       "    <tr>\n",
       "      <th>2</th>\n",
       "      <td>3</td>\n",
       "      <td>English</td>\n",
       "      <td>379</td>\n",
       "      <td>4.922</td>\n",
       "      <td>Indo-European</td>\n",
       "      <td>Germanic</td>\n",
       "    </tr>\n",
       "    <tr>\n",
       "      <th>3</th>\n",
       "      <td>4</td>\n",
       "      <td>Hindi (Sanskritised Hindustani)[9]</td>\n",
       "      <td>341</td>\n",
       "      <td>4.429</td>\n",
       "      <td>Indo-European</td>\n",
       "      <td>Indo-Aryan</td>\n",
       "    </tr>\n",
       "    <tr>\n",
       "      <th>4</th>\n",
       "      <td>5</td>\n",
       "      <td>Bengali</td>\n",
       "      <td>228</td>\n",
       "      <td>2.961</td>\n",
       "      <td>Indo-European</td>\n",
       "      <td>Indo-Aryan</td>\n",
       "    </tr>\n",
       "    <tr>\n",
       "      <th>5</th>\n",
       "      <td>6</td>\n",
       "      <td>Portuguese</td>\n",
       "      <td>221</td>\n",
       "      <td>2.870</td>\n",
       "      <td>Indo-European</td>\n",
       "      <td>Romance</td>\n",
       "    </tr>\n",
       "    <tr>\n",
       "      <th>6</th>\n",
       "      <td>7</td>\n",
       "      <td>Russian</td>\n",
       "      <td>154</td>\n",
       "      <td>2.000</td>\n",
       "      <td>Indo-European</td>\n",
       "      <td>Balto-Slavic</td>\n",
       "    </tr>\n",
       "    <tr>\n",
       "      <th>7</th>\n",
       "      <td>8</td>\n",
       "      <td>Japanese</td>\n",
       "      <td>128</td>\n",
       "      <td>1.662</td>\n",
       "      <td>Japonic</td>\n",
       "      <td>Japanese</td>\n",
       "    </tr>\n",
       "    <tr>\n",
       "      <th>8</th>\n",
       "      <td>9</td>\n",
       "      <td>Western Punjabi[10]</td>\n",
       "      <td>92.7</td>\n",
       "      <td>1.204</td>\n",
       "      <td>Indo-European</td>\n",
       "      <td>Indo-Aryan</td>\n",
       "    </tr>\n",
       "    <tr>\n",
       "      <th>9</th>\n",
       "      <td>10</td>\n",
       "      <td>Marathi</td>\n",
       "      <td>83.1</td>\n",
       "      <td>1.079</td>\n",
       "      <td>Indo-European</td>\n",
       "      <td>Indo-Aryan</td>\n",
       "    </tr>\n",
       "  </tbody>\n",
       "</table>\n",
       "</div>"
      ],
      "text/plain": [
       "  Rank                            Language Speakers(millions)  \\\n",
       "0    1                    Mandarin Chinese                918   \n",
       "1    2                             Spanish                480   \n",
       "2    3                             English                379   \n",
       "3    4  Hindi (Sanskritised Hindustani)[9]                341   \n",
       "4    5                             Bengali                228   \n",
       "5    6                          Portuguese                221   \n",
       "6    7                             Russian                154   \n",
       "7    8                            Japanese                128   \n",
       "8    9                 Western Punjabi[10]               92.7   \n",
       "9   10                             Marathi               83.1   \n",
       "\n",
       "  % of World pop.(March 2019)[8] Language family        Branch  \n",
       "0                         11.922    Sino-Tibetan       Sinitic  \n",
       "1                          5.994   Indo-European       Romance  \n",
       "2                          4.922   Indo-European      Germanic  \n",
       "3                          4.429   Indo-European    Indo-Aryan  \n",
       "4                          2.961   Indo-European    Indo-Aryan  \n",
       "5                          2.870   Indo-European       Romance  \n",
       "6                          2.000   Indo-European  Balto-Slavic  \n",
       "7                          1.662         Japonic      Japanese  \n",
       "8                          1.204   Indo-European    Indo-Aryan  \n",
       "9                          1.079   Indo-European    Indo-Aryan  "
      ]
     },
     "execution_count": 251,
     "metadata": {},
     "output_type": "execute_result"
    }
   ],
   "source": [
    "# your code here\n",
    "html = requests.get(url).content\n",
    "soup = BeautifulSoup(html, 'html')\n",
    "table = soup.find('table', {'class': 'wikitable sortable'})\n",
    "rows = table.find_all('tr')\n",
    "rows = [row.text.strip().split('\\n') for row in rows]\n",
    "colnames = [row for row in rows[0] if row != '']\n",
    "data = [y for x in rows[1:] for y in x if y != '']\n",
    "data2 = [data[i:i+6] for i in range(0, len(data), 6)]\n",
    "df = pd.DataFrame(data2, columns=colnames).head(10)\n",
    "df\n"
   ]
  },
  {
   "cell_type": "markdown",
   "metadata": {},
   "source": [
    "## Bonus\n",
    "#### Scrape a certain number of tweets of a given Twitter account."
   ]
  },
  {
   "cell_type": "code",
   "execution_count": null,
   "metadata": {},
   "outputs": [],
   "source": [
    "# This is the url you will scrape in this exercise \n",
    "# You will need to add the account credentials to this url\n",
    "url = 'https://twitter.com/'"
   ]
  },
  {
   "cell_type": "code",
   "execution_count": null,
   "metadata": {},
   "outputs": [],
   "source": [
    "# your code here"
   ]
  },
  {
   "cell_type": "markdown",
   "metadata": {},
   "source": [
    "#### Display IMDB's top 250 data (movie name, initial release, director name and stars) as a pandas dataframe."
   ]
  },
  {
   "cell_type": "code",
   "execution_count": 252,
   "metadata": {},
   "outputs": [],
   "source": [
    "# This is the url you will scrape in this exercise \n",
    "url = 'https://www.imdb.com/chart/top'"
   ]
  },
  {
   "cell_type": "code",
   "execution_count": null,
   "metadata": {},
   "outputs": [],
   "source": [
    "# your code here\n",
    "html = requests.get(url).content\n",
    "soup = BeautifulSoup(html, 'html')\n",
    "table = soup.find('tbody', {'class': 'lister-list'})\n",
    "rows = table.find_all('tr')\n",
    "rows = [row.text.strip().split('\\n') for row in rows]\n",
    "directors = table.find_all()"
   ]
  },
  {
   "cell_type": "markdown",
   "metadata": {},
   "source": [
    "#### Display the movie name, year and a brief summary of the top 10 random movies (IMDB) as a pandas dataframe."
   ]
  },
  {
   "cell_type": "code",
   "execution_count": null,
   "metadata": {},
   "outputs": [],
   "source": [
    "#This is the url you will scrape in this exercise\n",
    "url = 'http://www.imdb.com/chart/top'"
   ]
  },
  {
   "cell_type": "code",
   "execution_count": null,
   "metadata": {},
   "outputs": [],
   "source": [
    "# your code here"
   ]
  },
  {
   "cell_type": "markdown",
   "metadata": {},
   "source": [
    "#### Find the live weather report (temperature, wind speed, description and weather) of a given city."
   ]
  },
  {
   "cell_type": "code",
   "execution_count": null,
   "metadata": {},
   "outputs": [],
   "source": [
    "#https://openweathermap.org/current\n",
    "city = input('Enter the city: ')\n",
    "url = 'http://api.openweathermap.org/data/2.5/weather?'+'q='+city+'&APPID=b35975e18dc93725acb092f7272cc6b8&units=metric'"
   ]
  },
  {
   "cell_type": "code",
   "execution_count": null,
   "metadata": {},
   "outputs": [],
   "source": [
    "# your code here"
   ]
  },
  {
   "cell_type": "markdown",
   "metadata": {},
   "source": [
    "#### Find the book name, price and stock availability as a pandas dataframe."
   ]
  },
  {
   "cell_type": "code",
   "execution_count": null,
   "metadata": {},
   "outputs": [],
   "source": [
    "# This is the url you will scrape in this exercise. \n",
    "# It is a fictional bookstore created to be scraped. \n",
    "url = 'http://books.toscrape.com/'"
   ]
  },
  {
   "cell_type": "code",
   "execution_count": null,
   "metadata": {},
   "outputs": [],
   "source": [
    "# your code here\n",
    "res = []\n",
    "for book in soup.find_all('li', {'class': 'col-xs-6 col-sm-4 col-md-3 col-lg-3'}):\n",
    "    title = book.h3.a['title']\n",
    "    div_prodprice = book.find('div', {'class': 'product_price'})\n",
    "    price = div_prodprice.find_all('p')[0].text\n",
    "    stock = div_prodprice.find_all('p')[1].text.strip()\n",
    "    res.append([title, price, stock])\n",
    "res_df = pd.DataFrame(res)"
   ]
  }
 ],
 "metadata": {
  "kernelspec": {
   "display_name": "Python 3",
   "language": "python",
   "name": "python3"
  },
  "language_info": {
   "codemirror_mode": {
    "name": "ipython",
    "version": 3
   },
   "file_extension": ".py",
   "mimetype": "text/x-python",
   "name": "python",
   "nbconvert_exporter": "python",
   "pygments_lexer": "ipython3",
   "version": "3.7.7"
  }
 },
 "nbformat": 4,
 "nbformat_minor": 4
}
