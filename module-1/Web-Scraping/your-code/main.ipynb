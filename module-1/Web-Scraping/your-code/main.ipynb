{
 "cells": [
  {
   "cell_type": "markdown",
   "metadata": {},
   "source": [
    "# Web Scraping Lab\n",
    "\n",
    "You will find in this notebook some scrapy exercises to practise your scraping skills.\n",
    "\n",
    "**Tips:**\n",
    "\n",
    "- Check the response status code for each request to ensure you have obtained the intended content.\n",
    "- Print the response text in each request to understand the kind of info you are getting and its format.\n",
    "- Check for patterns in the response text to extract the data/info requested in each question.\n",
    "- Visit the urls below and take a look at their source code through Chrome DevTools. You'll need to identify the html tags, special class names, etc used in the html content you are expected to extract.\n",
    "\n",
    "**Resources**:\n",
    "- [Requests library](http://docs.python-requests.org/en/master/#the-user-guide)\n",
    "- [Beautiful Soup Doc](https://www.crummy.com/software/BeautifulSoup/bs4/doc/)\n",
    "- [Urllib](https://docs.python.org/3/library/urllib.html#module-urllib)\n",
    "- [re lib](https://docs.python.org/3/library/re.html)\n",
    "- [lxml lib](https://lxml.de/)\n",
    "- [Scrapy](https://scrapy.org/)\n",
    "- [List of HTTP status codes](https://en.wikipedia.org/wiki/List_of_HTTP_status_codes)\n",
    "- [HTML basics](http://www.simplehtmlguide.com/cheatsheet.php)\n",
    "- [CSS basics](https://www.cssbasics.com/#page_start)"
   ]
  },
  {
   "cell_type": "markdown",
   "metadata": {},
   "source": [
    "#### Below are the libraries and modules you may need. `requests`,  `BeautifulSoup` and `pandas` are already imported for you. If you prefer to use additional libraries feel free to do it."
   ]
  },
  {
   "cell_type": "code",
   "execution_count": 85,
   "metadata": {},
   "outputs": [],
   "source": [
    "import requests\n",
    "from bs4 import BeautifulSoup\n",
    "import pandas as pd\n",
    "import re\n",
    "import random"
   ]
  },
  {
   "cell_type": "markdown",
   "metadata": {},
   "source": [
    "#### Download, parse (using BeautifulSoup), and print the content from the Trending Developers page from GitHub:"
   ]
  },
  {
   "cell_type": "code",
   "execution_count": 86,
   "metadata": {},
   "outputs": [],
   "source": [
    "# This is the url you will scrape in this exercise\n",
    "url = 'https://github.com/trending/developers'"
   ]
  },
  {
   "cell_type": "code",
   "execution_count": 87,
   "metadata": {},
   "outputs": [],
   "source": [
    "# your code here\n",
    "html = requests.get(url).content\n",
    "soup = BeautifulSoup(html, 'html')"
   ]
  },
  {
   "cell_type": "markdown",
   "metadata": {},
   "source": [
    "#### Display the names of the trending developers retrieved in the previous step.\n",
    "\n",
    "Your output should be a Python list of developer names. Each name should not contain any html tag.\n",
    "\n",
    "**Instructions:**\n",
    "\n",
    "1. Find out the html tag and class names used for the developer names. You can achieve this using Chrome DevTools.\n",
    "\n",
    "1. Use BeautifulSoup to extract all the html elements that contain the developer names.\n",
    "\n",
    "1. Use string manipulation techniques to replace whitespaces and linebreaks (i.e. `\\n`) in the *text* of each html element. Use a list to store the clean names.\n",
    "\n",
    "1. Print the list of names.\n",
    "\n",
    "Your output should look like below:\n",
    "\n",
    "```\n",
    "['trimstray (@trimstray)',\n",
    " 'joewalnes (JoeWalnes)',\n",
    " 'charlax (Charles-AxelDein)',\n",
    " 'ForrestKnight (ForrestKnight)',\n",
    " 'revery-ui (revery-ui)',\n",
    " 'alibaba (Alibaba)',\n",
    " 'Microsoft (Microsoft)',\n",
    " 'github (GitHub)',\n",
    " 'facebook (Facebook)',\n",
    " 'boazsegev (Bo)',\n",
    " 'google (Google)',\n",
    " 'cloudfetch',\n",
    " 'sindresorhus (SindreSorhus)',\n",
    " 'tensorflow',\n",
    " 'apache (TheApacheSoftwareFoundation)',\n",
    " 'DevonCrawford (DevonCrawford)',\n",
    " 'ARMmbed (ArmMbed)',\n",
    " 'vuejs (vuejs)',\n",
    " 'fastai (fast.ai)',\n",
    " 'QiShaoXuan (Qi)',\n",
    " 'joelparkerhenderson (JoelParkerHenderson)',\n",
    " 'torvalds (LinusTorvalds)',\n",
    " 'CyC2018',\n",
    " 'komeiji-satori (神楽坂覚々)',\n",
    " 'script-8']\n",
    " ```"
   ]
  },
  {
   "cell_type": "code",
   "execution_count": 88,
   "metadata": {},
   "outputs": [
    {
     "data": {
      "text/plain": [
       "['Dave Henderson (hairyhenderson)',\n",
       " 'Franck Nijhof (frenck)',\n",
       " 'Brian Flad (bflad)',\n",
       " 'Rafael Gomes (gomex)',\n",
       " 'PySimpleGUI (PySimpleGUI)',\n",
       " 'Hiroki Nakayama (Hironsan)',\n",
       " 'Brandon (brandonroberts)',\n",
       " 'Tim Holman (tholman)',\n",
       " 'Danilo Woznica (danilowoz)',\n",
       " 'Niels Lohmann (nlohmann)',\n",
       " 'Mr.doob (mrdoob)',\n",
       " 'Sérgio Gomes (sgomes)',\n",
       " 'Ross Wightman (rwightman)',\n",
       " 'Samuel Colvin (samuelcolvin)',\n",
       " 'Jordi Boggiano (Seldaek)',\n",
       " 'Pomax (Pomax)',\n",
       " '二货机器人 (zombieJ)',\n",
       " 'Sebastián Ramírez (tiangolo)',\n",
       " 'Marcin Krzyzanowski (krzyzanowskim)',\n",
       " 'Travis Tidwell (travist)',\n",
       " 'Omry Yadan (omry)',\n",
       " 'James Jackson-South (JimBobSquarePants)',\n",
       " 'Tyler Neely (spacejam)',\n",
       " 'chriseth ()',\n",
       " 'Juliette (jrfnl)']"
      ]
     },
     "execution_count": 88,
     "metadata": {},
     "output_type": "execute_result"
    }
   ],
   "source": [
    "# your code here\n",
    "divs = soup.find_all('div', {'class': 'col-sm-8 d-md-flex'})\n",
    "rows = [row.text.strip().split('\\n') for row in divs]\n",
    "devs = [f'{info[0].strip()} ({info[4].strip()})' for info in rows] \n",
    "devs"
   ]
  },
  {
   "cell_type": "markdown",
   "metadata": {},
   "source": [
    "#### Display the trending Python repositories in GitHub.\n",
    "\n",
    "The steps to solve this problem is similar to the previous one except that you need to find out the repository names instead of developer names."
   ]
  },
  {
   "cell_type": "code",
   "execution_count": 89,
   "metadata": {},
   "outputs": [],
   "source": [
    "# This is the url you will scrape in this exercise\n",
    "url = 'https://github.com/trending/python?since=daily'"
   ]
  },
  {
   "cell_type": "code",
   "execution_count": 90,
   "metadata": {},
   "outputs": [
    {
     "data": {
      "text/plain": [
       "['pythonstock / stock',\n",
       " 'floodsung / Deep-Learning-Papers-Reading-Roadmap',\n",
       " 'd2l-ai / d2l-en',\n",
       " 'pandas-dev / pandas',\n",
       " 'Pitt-CSC / Summer2021-Internships',\n",
       " 'openai / gym',\n",
       " 'foxlet / macOS-Simple-KVM',\n",
       " 'apache / incubator-superset',\n",
       " 'talkpython / python-for-absolute-beginners-course',\n",
       " 'tensorflow / models',\n",
       " 'cojocchen / covid19_critically_ill',\n",
       " 'PyTorchLightning / pytorch-lightning',\n",
       " 'pre-commit / pre-commit',\n",
       " 'python / mypy',\n",
       " 'openai / gpt-2',\n",
       " 'vt-vl-lab / 3d-photo-inpainting',\n",
       " 'nccgroup / ScoutSuite',\n",
       " 'scikit-learn / scikit-learn',\n",
       " 'deepinsight / insightface',\n",
       " 'kotartemiy / pygooglenews',\n",
       " 'ansible / ansible',\n",
       " 'thu-ml / tianshou',\n",
       " 'BaruYogesh / Spring2021Internships',\n",
       " 'zalando / patroni',\n",
       " 'netbox-community / netbox']"
      ]
     },
     "execution_count": 90,
     "metadata": {},
     "output_type": "execute_result"
    }
   ],
   "source": [
    "# your code here\n",
    "html = requests.get(url).content\n",
    "soup = BeautifulSoup(html, 'html')\n",
    "h1s = soup.find_all('h1', {'class': 'h3 lh-condensed'})\n",
    "rows = [row.text.strip().split('\\n') for row in h1s]\n",
    "repos = [f'{info[0].strip()} {info[3].strip()}' for info in rows]\n",
    "repos"
   ]
  },
  {
   "cell_type": "markdown",
   "metadata": {},
   "source": [
    "#### Display all the image links from Walt Disney wikipedia page."
   ]
  },
  {
   "cell_type": "code",
   "execution_count": 91,
   "metadata": {},
   "outputs": [],
   "source": [
    "# This is the url you will scrape in this exercise\n",
    "url = 'https://en.wikipedia.org/wiki/Walt_Disney'"
   ]
  },
  {
   "cell_type": "code",
   "execution_count": 92,
   "metadata": {},
   "outputs": [
    {
     "data": {
      "text/plain": [
       "['//upload.wikimedia.org/wikipedia/en/thumb/e/e7/Cscr-featured.svg/20px-Cscr-featured.svg.png',\n",
       " '//upload.wikimedia.org/wikipedia/en/thumb/8/8c/Extended-protection-shackle.svg/20px-Extended-protection-shackle.svg.png',\n",
       " '//upload.wikimedia.org/wikipedia/commons/thumb/d/df/Walt_Disney_1946.JPG/220px-Walt_Disney_1946.JPG',\n",
       " '//upload.wikimedia.org/wikipedia/commons/thumb/8/87/Walt_Disney_1942_signature.svg/150px-Walt_Disney_1942_signature.svg.png',\n",
       " '//upload.wikimedia.org/wikipedia/commons/thumb/c/c4/Walt_Disney_envelope_ca._1921.jpg/220px-Walt_Disney_envelope_ca._1921.jpg',\n",
       " '//upload.wikimedia.org/wikipedia/commons/thumb/4/4d/Newman_Laugh-O-Gram_%281921%29.webm/220px-seek%3D2-Newman_Laugh-O-Gram_%281921%29.webm.jpg',\n",
       " '//upload.wikimedia.org/wikipedia/commons/thumb/0/0d/Trolley_Troubles_poster.jpg/170px-Trolley_Troubles_poster.jpg',\n",
       " '//upload.wikimedia.org/wikipedia/commons/thumb/7/71/Walt_Disney_and_his_cartoon_creation_%22Mickey_Mouse%22_-_National_Board_of_Review_Magazine.jpg/170px-Walt_Disney_and_his_cartoon_creation_%22Mickey_Mouse%22_-_National_Board_of_Review_Magazine.jpg',\n",
       " '//upload.wikimedia.org/wikipedia/en/thumb/4/4e/Steamboat-willie.jpg/170px-Steamboat-willie.jpg',\n",
       " '//upload.wikimedia.org/wikipedia/commons/thumb/5/57/Walt_Disney_1935.jpg/170px-Walt_Disney_1935.jpg',\n",
       " '//upload.wikimedia.org/wikipedia/commons/thumb/c/cd/Walt_Disney_Snow_white_1937_trailer_screenshot_%2813%29.jpg/220px-Walt_Disney_Snow_white_1937_trailer_screenshot_%2813%29.jpg',\n",
       " '//upload.wikimedia.org/wikipedia/commons/thumb/1/15/Disney_drawing_goofy.jpg/170px-Disney_drawing_goofy.jpg',\n",
       " '//upload.wikimedia.org/wikipedia/commons/thumb/1/13/DisneySchiphol1951.jpg/220px-DisneySchiphol1951.jpg',\n",
       " '//upload.wikimedia.org/wikipedia/commons/thumb/8/8c/WaltDisneyplansDisneylandDec1954.jpg/220px-WaltDisneyplansDisneylandDec1954.jpg',\n",
       " '//upload.wikimedia.org/wikipedia/commons/thumb/f/ff/Walt_disney_portrait_right.jpg/170px-Walt_disney_portrait_right.jpg',\n",
       " '//upload.wikimedia.org/wikipedia/commons/thumb/1/1a/Walt_Disney_Grave.JPG/170px-Walt_Disney_Grave.JPG',\n",
       " '//upload.wikimedia.org/wikipedia/commons/thumb/2/2d/Roy_O._Disney_with_Company_at_Press_Conference.jpg/170px-Roy_O._Disney_with_Company_at_Press_Conference.jpg',\n",
       " '//upload.wikimedia.org/wikipedia/commons/thumb/a/a9/Disney_Display_Case.JPG/170px-Disney_Display_Case.JPG',\n",
       " '//upload.wikimedia.org/wikipedia/commons/thumb/6/6c/Disney1968.jpg/170px-Disney1968.jpg',\n",
       " '//upload.wikimedia.org/wikipedia/en/thumb/8/8a/OOjs_UI_icon_edit-ltr-progressive.svg/10px-OOjs_UI_icon_edit-ltr-progressive.svg.png',\n",
       " '//upload.wikimedia.org/wikipedia/commons/thumb/4/44/The_Walt_Disney_Company_Logo.svg/120px-The_Walt_Disney_Company_Logo.svg.png',\n",
       " '//upload.wikimedia.org/wikipedia/commons/thumb/d/da/Animation_disc.svg/30px-Animation_disc.svg.png',\n",
       " '//upload.wikimedia.org/wikipedia/en/thumb/6/69/P_vip.svg/29px-P_vip.svg.png',\n",
       " '//upload.wikimedia.org/wikipedia/commons/thumb/1/1a/Magic_Kingdom_castle.jpg/24px-Magic_Kingdom_castle.jpg',\n",
       " '//upload.wikimedia.org/wikipedia/en/thumb/e/e7/Video-x-generic.svg/30px-Video-x-generic.svg.png',\n",
       " '//upload.wikimedia.org/wikipedia/commons/thumb/a/a3/Flag_of_Los_Angeles_County%2C_California.svg/30px-Flag_of_Los_Angeles_County%2C_California.svg.png',\n",
       " '//upload.wikimedia.org/wikipedia/commons/thumb/8/8c/Blank_television_set.svg/30px-Blank_television_set.svg.png',\n",
       " '//upload.wikimedia.org/wikipedia/en/thumb/a/a4/Flag_of_the_United_States.svg/30px-Flag_of_the_United_States.svg.png',\n",
       " '//upload.wikimedia.org/wikipedia/en/thumb/4/4a/Commons-logo.svg/22px-Commons-logo.svg.png',\n",
       " '//upload.wikimedia.org/wikipedia/commons/thumb/f/fa/Wikiquote-logo.svg/25px-Wikiquote-logo.svg.png',\n",
       " '//upload.wikimedia.org/wikipedia/commons/thumb/f/ff/Wikidata-logo.svg/30px-Wikidata-logo.svg.png',\n",
       " '//upload.wikimedia.org/wikipedia/en/thumb/8/8a/OOjs_UI_icon_edit-ltr-progressive.svg/10px-OOjs_UI_icon_edit-ltr-progressive.svg.png',\n",
       " '//en.wikipedia.org/wiki/Special:CentralAutoLogin/start?type=1x1',\n",
       " '/static/images/wikimedia-button.png',\n",
       " '/static/images/poweredby_mediawiki_88x31.png']"
      ]
     },
     "execution_count": 92,
     "metadata": {},
     "output_type": "execute_result"
    }
   ],
   "source": [
    "# your code here\n",
    "html = requests.get(url).content\n",
    "soup = BeautifulSoup(html, 'html')\n",
    "imgs = soup.find_all('img')\n",
    "links = [img['src'] for img in imgs]\n",
    "links\n"
   ]
  },
  {
   "cell_type": "markdown",
   "metadata": {},
   "source": [
    "#### Retrieve an arbitary Wikipedia page of \"Python\" and create a list of links on that page."
   ]
  },
  {
   "cell_type": "code",
   "execution_count": 256,
   "metadata": {},
   "outputs": [],
   "source": [
    "# This is the url you will scrape in this exercise\n",
    "url = 'https://en.wikipedia.org/wiki/Python' "
   ]
  },
  {
   "cell_type": "code",
   "execution_count": 258,
   "metadata": {},
   "outputs": [
    {
     "data": {
      "text/plain": [
       "['#mw-head',\n",
       " '#searchInput',\n",
       " '/wiki/Special:SiteMatrix',\n",
       " '/wiki/File:Wiktionary-logo-v2.svg',\n",
       " 'https://en.wiktionary.org/wiki/Special:Search/Python/wiki/Python_Anghelo',\n",
       " '/wiki/File:Wikibooks-logo.svg',\n",
       " 'https://en.wikibooks.org/wiki/Special:Search/Python/wiki/Python_Anghelo',\n",
       " '/wiki/File:Wikiquote-logo.svg',\n",
       " 'https://en.wikiquote.org/wiki/Special:Search/Python/wiki/Python_Anghelo',\n",
       " '/wiki/File:Wikisource-logo.svg',\n",
       " 'https://en.wikisource.org/wiki/Special:Search/Python/wiki/Python_Anghelo',\n",
       " '/wiki/File:Wikiversity-logo.svg',\n",
       " 'https://en.wikiversity.org/wiki/Special:Search/Python/wiki/Python_Anghelo',\n",
       " '/wiki/File:Commons-logo.svg',\n",
       " 'https://commons.wikimedia.org/wiki/Special:Search/Python/wiki/Python_Anghelo',\n",
       " '/wiki/File:Wikivoyage-Logo-v3-icon.svg',\n",
       " 'https://en.wikivoyage.org/wiki/Special:Search/Python/wiki/Python_Anghelo',\n",
       " '/wiki/File:Wikinews-logo.svg',\n",
       " 'https://en.wikinews.org/wiki/Special:Search/Python/wiki/Python_Anghelo',\n",
       " '/wiki/File:Wikidata-logo.svg',\n",
       " 'https://www.wikidata.org/wiki/Special:Search/Python/wiki/Python_Anghelo',\n",
       " 'https://en.wikipedia.org/w/index.php?search=Python%2Fwiki%2FPython+Anghelo&title=Special%3ASearch&fulltext=1',\n",
       " 'https://en.wikipedia.org/w/index.php?title=Special:UserLogin&returnto=Python%2Fwiki%2FPython+Anghelo',\n",
       " '/wiki/Wikipedia:Article_wizard',\n",
       " '/wiki/Wikipedia:Requested_articles',\n",
       " 'https://en.wikipedia.org/w/index.php?search=Python%2Fwiki%2FPython+Anghelo&title=Special%3ASearch&fulltext=1&ns0=1',\n",
       " '/wiki/Special:WhatLinksHere/Python/wiki/Python_Anghelo',\n",
       " 'https://en.wikipedia.org/w/index.php?title=Python/wiki/Python_Anghelo&action=purge',\n",
       " '/wiki/Case_sensitivity',\n",
       " 'https://en.wikipedia.org/w/index.php?search=Python%2Fwiki%2FPython+Anghelo&title=Special%3ASearch&fulltext=1',\n",
       " '/wiki/Wikipedia:Redirect',\n",
       " 'https://en.wikipedia.org/w/index.php?title=Special:Log/delete&page=Python/wiki/Python_Anghelo',\n",
       " '/wiki/Wikipedia:Why_was_the_page_I_created_deleted%3F',\n",
       " 'https://en.wikipedia.org/wiki/Python/wiki/Python_Anghelo',\n",
       " '/wiki/Special:MyTalk',\n",
       " '/wiki/Special:MyContributions',\n",
       " '/w/index.php?title=Special:CreateAccount&returnto=Python%2Fwiki%2FPython+Anghelo',\n",
       " '/w/index.php?title=Special:UserLogin&returnto=Python%2Fwiki%2FPython+Anghelo',\n",
       " '/w/index.php?title=Python/wiki/Python_Anghelo&action=edit&redlink=1',\n",
       " '/w/index.php?title=Talk:Python/wiki/Python_Anghelo&action=edit&redlink=1',\n",
       " '/wiki/Main_Page',\n",
       " '/wiki/Main_Page',\n",
       " '/wiki/Wikipedia:Contents',\n",
       " '/wiki/Portal:Current_events',\n",
       " '/wiki/Special:Random',\n",
       " '/wiki/Wikipedia:About',\n",
       " '//en.wikipedia.org/wiki/Wikipedia:Contact_us',\n",
       " 'https://donate.wikimedia.org/wiki/Special:FundraiserRedirector?utm_source=donate&utm_medium=sidebar&utm_campaign=C13_en.wikipedia.org&uselang=en',\n",
       " '//shop.wikimedia.org',\n",
       " '/wiki/Help:Contents',\n",
       " '/wiki/Wikipedia:Community_portal',\n",
       " '/wiki/Special:RecentChanges',\n",
       " '/wiki/Wikipedia:File_Upload_Wizard',\n",
       " '/wiki/Special:WhatLinksHere/Python/wiki/Python_Anghelo',\n",
       " '/wiki/Wikipedia:File_Upload_Wizard',\n",
       " '/wiki/Special:SpecialPages',\n",
       " '/w/index.php?title=Python/wiki/Python_Anghelo&printable=yes',\n",
       " '/w/index.php?title=Python/wiki/Python_Anghelo&action=info',\n",
       " 'https://foundation.wikimedia.org/wiki/Privacy_policy',\n",
       " '/wiki/Wikipedia:About',\n",
       " '/wiki/Wikipedia:General_disclaimer',\n",
       " '//en.wikipedia.org/wiki/Wikipedia:Contact_us',\n",
       " 'https://www.mediawiki.org/wiki/Special:MyLanguage/How_to_contribute',\n",
       " 'https://stats.wikimedia.org/#/en.wikipedia.org',\n",
       " 'https://foundation.wikimedia.org/wiki/Cookie_statement',\n",
       " '//en.m.wikipedia.org/w/index.php?title=Python/wiki/Python_Anghelo&mobileaction=toggle_view_mobile',\n",
       " 'https://wikimediafoundation.org/',\n",
       " 'https://www.mediawiki.org/']"
      ]
     },
     "execution_count": 258,
     "metadata": {},
     "output_type": "execute_result"
    }
   ],
   "source": [
    "# your code here\n",
    "html = requests.get(url).content\n",
    "soup = BeautifulSoup(html, 'html')\n",
    "links = soup.find_all('a', href = re.compile(r'^/wiki/Python*'))\n",
    "wiki_url = 'https://en.wikipedia.org'\n",
    "random_html = requests.get(url + random.choice(links)['href']).content\n",
    "random_soup = BeautifulSoup(random_html, 'html')\n",
    "random_python_links = random_soup.find_all('a', href=True)\n",
    "rplinks = [link['href'] for link in random_python_links]\n",
    "rplinks"
   ]
  },
  {
   "cell_type": "markdown",
   "metadata": {},
   "source": [
    "#### Find the number of titles that have changed in the United States Code since its last release point."
   ]
  },
  {
   "cell_type": "code",
   "execution_count": 107,
   "metadata": {},
   "outputs": [],
   "source": [
    "# This is the url you will scrape in this exercise\n",
    "url = 'http://uscode.house.gov/download/download.shtml'"
   ]
  },
  {
   "cell_type": "code",
   "execution_count": 110,
   "metadata": {},
   "outputs": [
    {
     "data": {
      "text/plain": [
       "1"
      ]
     },
     "execution_count": 110,
     "metadata": {},
     "output_type": "execute_result"
    }
   ],
   "source": [
    "# your code here\n",
    "html = requests.get(url).content\n",
    "soup = BeautifulSoup(html, 'html')\n",
    "links = soup.find_all('div', {'class': 'usctitlechanged'})\n",
    "changed_titles = [link.text.strip() for link in links]\n",
    "len(changed_titles)"
   ]
  },
  {
   "cell_type": "markdown",
   "metadata": {},
   "source": [
    "#### Find a Python list with the top ten FBI's Most Wanted names."
   ]
  },
  {
   "cell_type": "code",
   "execution_count": 111,
   "metadata": {},
   "outputs": [],
   "source": [
    "# This is the url you will scrape in this exercise\n",
    "url = 'https://www.fbi.gov/wanted/topten'"
   ]
  },
  {
   "cell_type": "code",
   "execution_count": 113,
   "metadata": {},
   "outputs": [
    {
     "data": {
      "text/plain": [
       "['ROBERT WILLIAM FISHER',\n",
       " 'BHADRESHKUMAR CHETANBHAI PATEL',\n",
       " 'ALEJANDRO ROSALES CASTILLO',\n",
       " 'ARNOLDO JIMENEZ',\n",
       " 'JASON DEREK BROWN',\n",
       " 'YASER ABDEL SAID',\n",
       " 'ALEXIS FLORES',\n",
       " 'EUGENE PALMER',\n",
       " 'SANTIAGO VILLALBA MEDEROS',\n",
       " 'RAFAEL CARO-QUINTERO']"
      ]
     },
     "execution_count": 113,
     "metadata": {},
     "output_type": "execute_result"
    }
   ],
   "source": [
    "# your code here\n",
    "html = requests.get(url).content\n",
    "soup = BeautifulSoup(html, 'html')\n",
    "most_wanted = soup.find_all('h3', {'class': 'title'})\n",
    "mw_names = [name.text.strip() for name in most_wanted]\n",
    "mw_names"
   ]
  },
  {
   "cell_type": "markdown",
   "metadata": {},
   "source": [
    "####  Display the 20 latest earthquakes info (date, time, latitude, longitude and region name) by the EMSC as a pandas dataframe."
   ]
  },
  {
   "cell_type": "code",
   "execution_count": 287,
   "metadata": {},
   "outputs": [],
   "source": [
    "# This is the url you will scrape in this exercise\n",
    "url = 'https://www.emsc-csem.org/Earthquake/'"
   ]
  },
  {
   "cell_type": "code",
   "execution_count": 296,
   "metadata": {},
   "outputs": [
    {
     "data": {
      "text/html": [
       "<div>\n",
       "<style scoped>\n",
       "    .dataframe tbody tr th:only-of-type {\n",
       "        vertical-align: middle;\n",
       "    }\n",
       "\n",
       "    .dataframe tbody tr th {\n",
       "        vertical-align: top;\n",
       "    }\n",
       "\n",
       "    .dataframe thead th {\n",
       "        text-align: right;\n",
       "    }\n",
       "</style>\n",
       "<table border=\"1\" class=\"dataframe\">\n",
       "  <thead>\n",
       "    <tr style=\"text-align: right;\">\n",
       "      <th></th>\n",
       "      <th>Date &amp; Time UTC</th>\n",
       "      <th>Latitude degrees</th>\n",
       "      <th>Longitude degrees</th>\n",
       "      <th>Region name  [+]</th>\n",
       "    </tr>\n",
       "  </thead>\n",
       "  <tbody>\n",
       "    <tr>\n",
       "      <th>0</th>\n",
       "      <td>2020-07-25   10:39:30.014min ago</td>\n",
       "      <td>37.70N</td>\n",
       "      <td>140.00E</td>\n",
       "      <td>EASTERN HONSHU, JAPAN</td>\n",
       "    </tr>\n",
       "    <tr>\n",
       "      <th>1</th>\n",
       "      <td>2020-07-25   10:33:16.020min ago</td>\n",
       "      <td>46.20N</td>\n",
       "      <td>6.91E</td>\n",
       "      <td>SWITZERLAND</td>\n",
       "    </tr>\n",
       "    <tr>\n",
       "      <th>2</th>\n",
       "      <td>2020-07-25   10:21:19.332min ago</td>\n",
       "      <td>38.14N</td>\n",
       "      <td>117.98W</td>\n",
       "      <td>NEVADA</td>\n",
       "    </tr>\n",
       "    <tr>\n",
       "      <th>3</th>\n",
       "      <td>2020-07-25   09:19:29.11hr 34min ago</td>\n",
       "      <td>55.11N</td>\n",
       "      <td>158.32W</td>\n",
       "      <td>ALASKA PENINSULA</td>\n",
       "    </tr>\n",
       "    <tr>\n",
       "      <th>4</th>\n",
       "      <td>2020-07-25   08:59:19.91hr 54min ago</td>\n",
       "      <td>38.77N</td>\n",
       "      <td>27.82E</td>\n",
       "      <td>WESTERN TURKEY</td>\n",
       "    </tr>\n",
       "    <tr>\n",
       "      <th>5</th>\n",
       "      <td>2020-07-25   08:47:03.52hr 06min ago</td>\n",
       "      <td>46.22N</td>\n",
       "      <td>7.79E</td>\n",
       "      <td>SWITZERLAND</td>\n",
       "    </tr>\n",
       "    <tr>\n",
       "      <th>6</th>\n",
       "      <td>2020-07-25   08:41:16.02hr 12min ago</td>\n",
       "      <td>66.30N</td>\n",
       "      <td>18.66W</td>\n",
       "      <td>ICELAND REGION</td>\n",
       "    </tr>\n",
       "    <tr>\n",
       "      <th>7</th>\n",
       "      <td>2020-07-25   08:21:02.42hr 32min ago</td>\n",
       "      <td>38.16N</td>\n",
       "      <td>118.03W</td>\n",
       "      <td>NEVADA</td>\n",
       "    </tr>\n",
       "    <tr>\n",
       "      <th>8</th>\n",
       "      <td>2020-07-25   08:19:54.82hr 33min ago</td>\n",
       "      <td>36.48N</td>\n",
       "      <td>118.05W</td>\n",
       "      <td>CENTRAL CALIFORNIA</td>\n",
       "    </tr>\n",
       "    <tr>\n",
       "      <th>9</th>\n",
       "      <td>2020-07-25   08:15:04.02hr 38min ago</td>\n",
       "      <td>51.44N</td>\n",
       "      <td>16.08E</td>\n",
       "      <td>POLAND</td>\n",
       "    </tr>\n",
       "    <tr>\n",
       "      <th>10</th>\n",
       "      <td>2020-07-25   07:49:40.33hr 04min ago</td>\n",
       "      <td>36.44N</td>\n",
       "      <td>117.99W</td>\n",
       "      <td>CENTRAL CALIFORNIA</td>\n",
       "    </tr>\n",
       "    <tr>\n",
       "      <th>11</th>\n",
       "      <td>2020-07-25   07:32:16.83hr 21min ago</td>\n",
       "      <td>43.06N</td>\n",
       "      <td>78.42E</td>\n",
       "      <td>EASTERN KAZAKHSTAN</td>\n",
       "    </tr>\n",
       "    <tr>\n",
       "      <th>12</th>\n",
       "      <td>2020-07-25   07:23:00.03hr 30min ago</td>\n",
       "      <td>7.78S</td>\n",
       "      <td>119.01E</td>\n",
       "      <td>FLORES SEA</td>\n",
       "    </tr>\n",
       "    <tr>\n",
       "      <th>13</th>\n",
       "      <td>2020-07-25   07:07:04.13hr 46min ago</td>\n",
       "      <td>56.25N</td>\n",
       "      <td>148.69W</td>\n",
       "      <td>GULF OF ALASKA</td>\n",
       "    </tr>\n",
       "    <tr>\n",
       "      <th>14</th>\n",
       "      <td>2020-07-25   07:02:30.23hr 51min ago</td>\n",
       "      <td>55.10N</td>\n",
       "      <td>158.45W</td>\n",
       "      <td>ALASKA PENINSULA</td>\n",
       "    </tr>\n",
       "    <tr>\n",
       "      <th>15</th>\n",
       "      <td>2020-07-25   06:28:38.04hr 25min ago</td>\n",
       "      <td>36.99N</td>\n",
       "      <td>5.28W</td>\n",
       "      <td>STRAIT OF GIBRALTAR</td>\n",
       "    </tr>\n",
       "    <tr>\n",
       "      <th>16</th>\n",
       "      <td>2020-07-25   06:16:19.94hr 37min ago</td>\n",
       "      <td>18.00N</td>\n",
       "      <td>66.76W</td>\n",
       "      <td>PUERTO RICO REGION</td>\n",
       "    </tr>\n",
       "    <tr>\n",
       "      <th>17</th>\n",
       "      <td>2020-07-25   06:09:01.04hr 44min ago</td>\n",
       "      <td>38.78N</td>\n",
       "      <td>27.82E</td>\n",
       "      <td>WESTERN TURKEY</td>\n",
       "    </tr>\n",
       "    <tr>\n",
       "      <th>18</th>\n",
       "      <td>2020-07-25   05:58:10.44hr 55min ago</td>\n",
       "      <td>38.78N</td>\n",
       "      <td>27.81E</td>\n",
       "      <td>WESTERN TURKEY</td>\n",
       "    </tr>\n",
       "    <tr>\n",
       "      <th>19</th>\n",
       "      <td>2020-07-25   05:54:35.04hr 59min ago</td>\n",
       "      <td>51.33N</td>\n",
       "      <td>16.18E</td>\n",
       "      <td>POLAND</td>\n",
       "    </tr>\n",
       "  </tbody>\n",
       "</table>\n",
       "</div>"
      ],
      "text/plain": [
       "                         Date & Time UTC Latitude degrees Longitude degrees  \\\n",
       "0       2020-07-25   10:39:30.014min ago           37.70N           140.00E   \n",
       "1       2020-07-25   10:33:16.020min ago           46.20N             6.91E   \n",
       "2       2020-07-25   10:21:19.332min ago           38.14N           117.98W   \n",
       "3   2020-07-25   09:19:29.11hr 34min ago           55.11N           158.32W   \n",
       "4   2020-07-25   08:59:19.91hr 54min ago           38.77N            27.82E   \n",
       "5   2020-07-25   08:47:03.52hr 06min ago           46.22N             7.79E   \n",
       "6   2020-07-25   08:41:16.02hr 12min ago           66.30N            18.66W   \n",
       "7   2020-07-25   08:21:02.42hr 32min ago           38.16N           118.03W   \n",
       "8   2020-07-25   08:19:54.82hr 33min ago           36.48N           118.05W   \n",
       "9   2020-07-25   08:15:04.02hr 38min ago           51.44N            16.08E   \n",
       "10  2020-07-25   07:49:40.33hr 04min ago           36.44N           117.99W   \n",
       "11  2020-07-25   07:32:16.83hr 21min ago           43.06N            78.42E   \n",
       "12  2020-07-25   07:23:00.03hr 30min ago            7.78S           119.01E   \n",
       "13  2020-07-25   07:07:04.13hr 46min ago           56.25N           148.69W   \n",
       "14  2020-07-25   07:02:30.23hr 51min ago           55.10N           158.45W   \n",
       "15  2020-07-25   06:28:38.04hr 25min ago           36.99N             5.28W   \n",
       "16  2020-07-25   06:16:19.94hr 37min ago           18.00N            66.76W   \n",
       "17  2020-07-25   06:09:01.04hr 44min ago           38.78N            27.82E   \n",
       "18  2020-07-25   05:58:10.44hr 55min ago           38.78N            27.81E   \n",
       "19  2020-07-25   05:54:35.04hr 59min ago           51.33N            16.18E   \n",
       "\n",
       "         Region name  [+]  \n",
       "0   EASTERN HONSHU, JAPAN  \n",
       "1             SWITZERLAND  \n",
       "2                  NEVADA  \n",
       "3        ALASKA PENINSULA  \n",
       "4          WESTERN TURKEY  \n",
       "5             SWITZERLAND  \n",
       "6          ICELAND REGION  \n",
       "7                  NEVADA  \n",
       "8      CENTRAL CALIFORNIA  \n",
       "9                  POLAND  \n",
       "10     CENTRAL CALIFORNIA  \n",
       "11     EASTERN KAZAKHSTAN  \n",
       "12             FLORES SEA  \n",
       "13         GULF OF ALASKA  \n",
       "14       ALASKA PENINSULA  \n",
       "15    STRAIT OF GIBRALTAR  \n",
       "16     PUERTO RICO REGION  \n",
       "17         WESTERN TURKEY  \n",
       "18         WESTERN TURKEY  \n",
       "19                 POLAND  "
      ]
     },
     "execution_count": 296,
     "metadata": {},
     "output_type": "execute_result"
    }
   ],
   "source": [
    "# your code here\n",
    "html = requests.get(url).content\n",
    "soup = BeautifulSoup(html, 'html')\n",
    "tables = soup.find_all('table')\n",
    "eq_table = tables[3]\n",
    "t_header = eq_table.find_all('th', {'class': 'th2'})\n",
    "colnames = [th.text.strip() for th in t_header if th not in [t_header[0], t_header[4], t_header[5], t_header[7]]]\n",
    "tags = eq_table.find_all('td', {'class': ['tabev1', 'tabev2', 'tabev3', 'tabev5', 'tabev6', 'tb_region']})\n",
    "rows = [row.text.strip() for row in tags]\n",
    "data = [[rows[x].replace('earthquake', ''), f'{rows[x+1]}{rows[x+2]}', f'{rows[x+3]}{rows[x+4]}', rows[x+8]] for x in range(0, len(rows), 9)]\n",
    "df = pd.DataFrame(data, columns=colnames).head(20)\n",
    "df"
   ]
  },
  {
   "cell_type": "markdown",
   "metadata": {},
   "source": [
    "#### Count the number of tweets by a given Twitter account.\n",
    "Ask the user for the handle (@handle) of a twitter account. You will need to include a ***try/except block*** for account names not found. \n",
    "<br>***Hint:*** the program should count the number of tweets for any provided account."
   ]
  },
  {
   "cell_type": "code",
   "execution_count": 305,
   "metadata": {},
   "outputs": [],
   "source": [
    "# This is the url you will scrape in this exercise \n",
    "# You will need to add the account credentials to this url\n",
    "url = 'https://mobile.twitter.com/'\n",
    "handle = 'AOC'"
   ]
  },
  {
   "cell_type": "code",
   "execution_count": 306,
   "metadata": {},
   "outputs": [
    {
     "data": {
      "text/plain": [
       "'10,877 Tweets'"
      ]
     },
     "execution_count": 306,
     "metadata": {},
     "output_type": "execute_result"
    }
   ],
   "source": [
    "# your code here\n",
    "html = requests.get(f'{url}{handle}').content\n",
    "soup = BeautifulSoup(html, 'html')\n",
    "tags = soup.find_all('td', {'class': 'stat'})\n",
    "tweets = tags[0].text.strip().replace('\\n', '')\n",
    "tweets"
   ]
  },
  {
   "cell_type": "markdown",
   "metadata": {},
   "source": [
    "#### Number of followers of a given twitter account\n",
    "Ask the user for the handle (@handle) of a twitter account. You will need to include a ***try/except block*** for account names not found. \n",
    "<br>***Hint:*** the program should count the followers for any provided account."
   ]
  },
  {
   "cell_type": "code",
   "execution_count": 279,
   "metadata": {},
   "outputs": [],
   "source": [
    "# This is the url you will scrape in this exercise \n",
    "# You will need to add the account credentials to this url\n",
    "url = 'https://mobile.twitter.com/'"
   ]
  },
  {
   "cell_type": "code",
   "execution_count": 307,
   "metadata": {},
   "outputs": [
    {
     "data": {
      "text/plain": [
       "'7,875,104 Followers'"
      ]
     },
     "execution_count": 307,
     "metadata": {},
     "output_type": "execute_result"
    }
   ],
   "source": [
    "# your code here\n",
    "handle = 'AOC'\n",
    "try:\n",
    "    r = requests.get(f'{url}{handle}').content\n",
    "except requests.exceptions.HTTPError as errh:\n",
    "    print (\"Http Error:\",errh)\n",
    "except requests.exceptions.ConnectionError as errc:\n",
    "    print (\"Error Connecting:\",errc)\n",
    "except requests.exceptions.Timeout as errt:\n",
    "    print (\"Timeout Error:\",errt)\n",
    "except requests.exceptions.RequestException as err:\n",
    "    print (\"OOps: Something Else\",err)\n",
    "\n",
    "soup = BeautifulSoup(r, 'html')\n",
    "followers = ''.join(soup.find('a', {'href': f'/{handle}/followers'}).text.strip().split('\\n'))\n",
    "followers"
   ]
  },
  {
   "cell_type": "markdown",
   "metadata": {},
   "source": [
    "#### List all language names and number of related articles in the order they appear in wikipedia.org."
   ]
  },
  {
   "cell_type": "code",
   "execution_count": 309,
   "metadata": {},
   "outputs": [],
   "source": [
    "# This is the url you will scrape in this exercise\n",
    "url = 'https://www.wikipedia.org/'"
   ]
  },
  {
   "cell_type": "code",
   "execution_count": 311,
   "metadata": {},
   "outputs": [
    {
     "data": {
      "text/html": [
       "<div>\n",
       "<style scoped>\n",
       "    .dataframe tbody tr th:only-of-type {\n",
       "        vertical-align: middle;\n",
       "    }\n",
       "\n",
       "    .dataframe tbody tr th {\n",
       "        vertical-align: top;\n",
       "    }\n",
       "\n",
       "    .dataframe thead th {\n",
       "        text-align: right;\n",
       "    }\n",
       "</style>\n",
       "<table border=\"1\" class=\"dataframe\">\n",
       "  <thead>\n",
       "    <tr style=\"text-align: right;\">\n",
       "      <th></th>\n",
       "      <th>Language</th>\n",
       "      <th>Articles</th>\n",
       "    </tr>\n",
       "  </thead>\n",
       "  <tbody>\n",
       "    <tr>\n",
       "      <th>0</th>\n",
       "      <td>English</td>\n",
       "      <td>6 125 000+ articles</td>\n",
       "    </tr>\n",
       "    <tr>\n",
       "      <th>1</th>\n",
       "      <td>日本語</td>\n",
       "      <td>1 218 000+ 記事</td>\n",
       "    </tr>\n",
       "    <tr>\n",
       "      <th>2</th>\n",
       "      <td>Español</td>\n",
       "      <td>1 612 000+ artículos</td>\n",
       "    </tr>\n",
       "    <tr>\n",
       "      <th>3</th>\n",
       "      <td>Deutsch</td>\n",
       "      <td>2 458 000+ Artikel</td>\n",
       "    </tr>\n",
       "    <tr>\n",
       "      <th>4</th>\n",
       "      <td>Русский</td>\n",
       "      <td>1 644 000+ статей</td>\n",
       "    </tr>\n",
       "    <tr>\n",
       "      <th>5</th>\n",
       "      <td>Français</td>\n",
       "      <td>2 236 000+ articles</td>\n",
       "    </tr>\n",
       "    <tr>\n",
       "      <th>6</th>\n",
       "      <td>Italiano</td>\n",
       "      <td>1 623 000+ voci</td>\n",
       "    </tr>\n",
       "    <tr>\n",
       "      <th>7</th>\n",
       "      <td>中文</td>\n",
       "      <td>1 130 000+ 條目</td>\n",
       "    </tr>\n",
       "    <tr>\n",
       "      <th>8</th>\n",
       "      <td>Português</td>\n",
       "      <td>1 039 000+ artigos</td>\n",
       "    </tr>\n",
       "    <tr>\n",
       "      <th>9</th>\n",
       "      <td>Polski</td>\n",
       "      <td>1 420 000+ haseł</td>\n",
       "    </tr>\n",
       "  </tbody>\n",
       "</table>\n",
       "</div>"
      ],
      "text/plain": [
       "    Language              Articles\n",
       "0    English   6 125 000+ articles\n",
       "1        日本語         1 218 000+ 記事\n",
       "2    Español  1 612 000+ artículos\n",
       "3    Deutsch    2 458 000+ Artikel\n",
       "4    Русский     1 644 000+ статей\n",
       "5   Français   2 236 000+ articles\n",
       "6   Italiano       1 623 000+ voci\n",
       "7         中文         1 130 000+ 條目\n",
       "8  Português    1 039 000+ artigos\n",
       "9     Polski      1 420 000+ haseł"
      ]
     },
     "execution_count": 311,
     "metadata": {},
     "output_type": "execute_result"
    }
   ],
   "source": [
    "# your code here\n",
    "html = requests.get(url).content\n",
    "soup = BeautifulSoup(html, 'html')\n",
    "divs = soup.find_all('div', {'class': 'central-featured-lang'})\n",
    "languages = [lang.text.strip().replace(u'\\xa0', u' ').split('\\n') for lang in divs]\n",
    "df = pd.DataFrame(languages, columns=['Language', 'Articles'])\n",
    "df"
   ]
  },
  {
   "cell_type": "markdown",
   "metadata": {},
   "source": [
    "#### A list with the different kind of datasets available in data.gov.uk."
   ]
  },
  {
   "cell_type": "code",
   "execution_count": 217,
   "metadata": {},
   "outputs": [],
   "source": [
    "# This is the url you will scrape in this exercise\n",
    "url = 'https://data.gov.uk/'"
   ]
  },
  {
   "cell_type": "code",
   "execution_count": 225,
   "metadata": {},
   "outputs": [
    {
     "data": {
      "text/plain": [
       "['Business and economy',\n",
       " 'Crime and justice',\n",
       " 'Defence',\n",
       " 'Education',\n",
       " 'Environment',\n",
       " 'Government',\n",
       " 'Government spending',\n",
       " 'Health',\n",
       " 'Mapping',\n",
       " 'Society',\n",
       " 'Towns and cities',\n",
       " 'Transport']"
      ]
     },
     "execution_count": 225,
     "metadata": {},
     "output_type": "execute_result"
    }
   ],
   "source": [
    "# your code here\n",
    "html = requests.get(url).content\n",
    "soup = BeautifulSoup(html, 'html')\n",
    "h2s = soup.find_all('a', href = re.compile(r'(topic)'))\n",
    "topics = [topic.text.strip() for topic in h2s]\n",
    "topics"
   ]
  },
  {
   "cell_type": "markdown",
   "metadata": {},
   "source": [
    "#### Display the top 10 languages by number of native speakers stored in a pandas dataframe."
   ]
  },
  {
   "cell_type": "code",
   "execution_count": 241,
   "metadata": {},
   "outputs": [],
   "source": [
    "# This is the url you will scrape in this exercise\n",
    "url = 'https://en.wikipedia.org/wiki/List_of_languages_by_number_of_native_speakers'"
   ]
  },
  {
   "cell_type": "code",
   "execution_count": 251,
   "metadata": {},
   "outputs": [
    {
     "data": {
      "text/html": [
       "<div>\n",
       "<style scoped>\n",
       "    .dataframe tbody tr th:only-of-type {\n",
       "        vertical-align: middle;\n",
       "    }\n",
       "\n",
       "    .dataframe tbody tr th {\n",
       "        vertical-align: top;\n",
       "    }\n",
       "\n",
       "    .dataframe thead th {\n",
       "        text-align: right;\n",
       "    }\n",
       "</style>\n",
       "<table border=\"1\" class=\"dataframe\">\n",
       "  <thead>\n",
       "    <tr style=\"text-align: right;\">\n",
       "      <th></th>\n",
       "      <th>Rank</th>\n",
       "      <th>Language</th>\n",
       "      <th>Speakers(millions)</th>\n",
       "      <th>% of World pop.(March 2019)[8]</th>\n",
       "      <th>Language family</th>\n",
       "      <th>Branch</th>\n",
       "    </tr>\n",
       "  </thead>\n",
       "  <tbody>\n",
       "    <tr>\n",
       "      <th>0</th>\n",
       "      <td>1</td>\n",
       "      <td>Mandarin Chinese</td>\n",
       "      <td>918</td>\n",
       "      <td>11.922</td>\n",
       "      <td>Sino-Tibetan</td>\n",
       "      <td>Sinitic</td>\n",
       "    </tr>\n",
       "    <tr>\n",
       "      <th>1</th>\n",
       "      <td>2</td>\n",
       "      <td>Spanish</td>\n",
       "      <td>480</td>\n",
       "      <td>5.994</td>\n",
       "      <td>Indo-European</td>\n",
       "      <td>Romance</td>\n",
       "    </tr>\n",
       "    <tr>\n",
       "      <th>2</th>\n",
       "      <td>3</td>\n",
       "      <td>English</td>\n",
       "      <td>379</td>\n",
       "      <td>4.922</td>\n",
       "      <td>Indo-European</td>\n",
       "      <td>Germanic</td>\n",
       "    </tr>\n",
       "    <tr>\n",
       "      <th>3</th>\n",
       "      <td>4</td>\n",
       "      <td>Hindi (Sanskritised Hindustani)[9]</td>\n",
       "      <td>341</td>\n",
       "      <td>4.429</td>\n",
       "      <td>Indo-European</td>\n",
       "      <td>Indo-Aryan</td>\n",
       "    </tr>\n",
       "    <tr>\n",
       "      <th>4</th>\n",
       "      <td>5</td>\n",
       "      <td>Bengali</td>\n",
       "      <td>228</td>\n",
       "      <td>2.961</td>\n",
       "      <td>Indo-European</td>\n",
       "      <td>Indo-Aryan</td>\n",
       "    </tr>\n",
       "    <tr>\n",
       "      <th>5</th>\n",
       "      <td>6</td>\n",
       "      <td>Portuguese</td>\n",
       "      <td>221</td>\n",
       "      <td>2.870</td>\n",
       "      <td>Indo-European</td>\n",
       "      <td>Romance</td>\n",
       "    </tr>\n",
       "    <tr>\n",
       "      <th>6</th>\n",
       "      <td>7</td>\n",
       "      <td>Russian</td>\n",
       "      <td>154</td>\n",
       "      <td>2.000</td>\n",
       "      <td>Indo-European</td>\n",
       "      <td>Balto-Slavic</td>\n",
       "    </tr>\n",
       "    <tr>\n",
       "      <th>7</th>\n",
       "      <td>8</td>\n",
       "      <td>Japanese</td>\n",
       "      <td>128</td>\n",
       "      <td>1.662</td>\n",
       "      <td>Japonic</td>\n",
       "      <td>Japanese</td>\n",
       "    </tr>\n",
       "    <tr>\n",
       "      <th>8</th>\n",
       "      <td>9</td>\n",
       "      <td>Western Punjabi[10]</td>\n",
       "      <td>92.7</td>\n",
       "      <td>1.204</td>\n",
       "      <td>Indo-European</td>\n",
       "      <td>Indo-Aryan</td>\n",
       "    </tr>\n",
       "    <tr>\n",
       "      <th>9</th>\n",
       "      <td>10</td>\n",
       "      <td>Marathi</td>\n",
       "      <td>83.1</td>\n",
       "      <td>1.079</td>\n",
       "      <td>Indo-European</td>\n",
       "      <td>Indo-Aryan</td>\n",
       "    </tr>\n",
       "  </tbody>\n",
       "</table>\n",
       "</div>"
      ],
      "text/plain": [
       "  Rank                            Language Speakers(millions)  \\\n",
       "0    1                    Mandarin Chinese                918   \n",
       "1    2                             Spanish                480   \n",
       "2    3                             English                379   \n",
       "3    4  Hindi (Sanskritised Hindustani)[9]                341   \n",
       "4    5                             Bengali                228   \n",
       "5    6                          Portuguese                221   \n",
       "6    7                             Russian                154   \n",
       "7    8                            Japanese                128   \n",
       "8    9                 Western Punjabi[10]               92.7   \n",
       "9   10                             Marathi               83.1   \n",
       "\n",
       "  % of World pop.(March 2019)[8] Language family        Branch  \n",
       "0                         11.922    Sino-Tibetan       Sinitic  \n",
       "1                          5.994   Indo-European       Romance  \n",
       "2                          4.922   Indo-European      Germanic  \n",
       "3                          4.429   Indo-European    Indo-Aryan  \n",
       "4                          2.961   Indo-European    Indo-Aryan  \n",
       "5                          2.870   Indo-European       Romance  \n",
       "6                          2.000   Indo-European  Balto-Slavic  \n",
       "7                          1.662         Japonic      Japanese  \n",
       "8                          1.204   Indo-European    Indo-Aryan  \n",
       "9                          1.079   Indo-European    Indo-Aryan  "
      ]
     },
     "execution_count": 251,
     "metadata": {},
     "output_type": "execute_result"
    }
   ],
   "source": [
    "# your code here\n",
    "html = requests.get(url).content\n",
    "soup = BeautifulSoup(html, 'html')\n",
    "table = soup.find('table', {'class': 'wikitable sortable'})\n",
    "rows = table.find_all('tr')\n",
    "rows = [row.text.strip().split('\\n') for row in rows]\n",
    "colnames = [row for row in rows[0] if row != '']\n",
    "data = [y for x in rows[1:] for y in x if y != '']\n",
    "data2 = [data[i:i+6] for i in range(0, len(data), 6)]\n",
    "df = pd.DataFrame(data2, columns=colnames).head(10)\n",
    "df\n"
   ]
  },
  {
   "cell_type": "markdown",
   "metadata": {},
   "source": [
    "## Bonus\n",
    "#### Scrape a certain number of tweets of a given Twitter account."
   ]
  },
  {
   "cell_type": "code",
   "execution_count": 298,
   "metadata": {},
   "outputs": [],
   "source": [
    "# This is the url you will scrape in this exercise \n",
    "# You will need to add the account credentials to this url\n",
    "url = 'https://mobile.twitter.com/'\n",
    "handle = 'AOC'"
   ]
  },
  {
   "cell_type": "code",
   "execution_count": null,
   "metadata": {},
   "outputs": [],
   "source": [
    "# your code here"
   ]
  },
  {
   "cell_type": "markdown",
   "metadata": {},
   "source": [
    "#### Display IMDB's top 250 data (movie name, initial release, director name and stars) as a pandas dataframe."
   ]
  },
  {
   "cell_type": "code",
   "execution_count": 252,
   "metadata": {},
   "outputs": [],
   "source": [
    "# This is the url you will scrape in this exercise \n",
    "url = 'https://www.imdb.com/chart/top'"
   ]
  },
  {
   "cell_type": "code",
   "execution_count": null,
   "metadata": {},
   "outputs": [],
   "source": [
    "# your code here\n",
    "html = requests.get(url).content\n",
    "soup = BeautifulSoup(html, 'html')\n",
    "table = soup.find('tbody', {'class': 'lister-list'})\n",
    "rows = table.find_all('tr')\n",
    "rows = [row.text.strip().split('\\n') for row in rows]\n",
    "directors = table.find_all()"
   ]
  },
  {
   "cell_type": "markdown",
   "metadata": {},
   "source": [
    "#### Display the movie name, year and a brief summary of the top 10 random movies (IMDB) as a pandas dataframe."
   ]
  },
  {
   "cell_type": "code",
   "execution_count": null,
   "metadata": {},
   "outputs": [],
   "source": [
    "#This is the url you will scrape in this exercise\n",
    "url = 'http://www.imdb.com/chart/top'"
   ]
  },
  {
   "cell_type": "code",
   "execution_count": null,
   "metadata": {},
   "outputs": [],
   "source": [
    "# your code here"
   ]
  },
  {
   "cell_type": "markdown",
   "metadata": {},
   "source": [
    "#### Find the live weather report (temperature, wind speed, description and weather) of a given city."
   ]
  },
  {
   "cell_type": "code",
   "execution_count": null,
   "metadata": {},
   "outputs": [],
   "source": [
    "#https://openweathermap.org/current\n",
    "city = input('Enter the city: ')\n",
    "url = 'http://api.openweathermap.org/data/2.5/weather?'+'q='+city+'&APPID=b35975e18dc93725acb092f7272cc6b8&units=metric'"
   ]
  },
  {
   "cell_type": "code",
   "execution_count": null,
   "metadata": {},
   "outputs": [],
   "source": [
    "# your code here"
   ]
  },
  {
   "cell_type": "markdown",
   "metadata": {},
   "source": [
    "#### Find the book name, price and stock availability as a pandas dataframe."
   ]
  },
  {
   "cell_type": "code",
   "execution_count": null,
   "metadata": {},
   "outputs": [],
   "source": [
    "# This is the url you will scrape in this exercise. \n",
    "# It is a fictional bookstore created to be scraped. \n",
    "url = 'http://books.toscrape.com/'"
   ]
  },
  {
   "cell_type": "code",
   "execution_count": null,
   "metadata": {},
   "outputs": [],
   "source": [
    "# your code here\n",
    "res = []\n",
    "for book in soup.find_all('li', {'class': 'col-xs-6 col-sm-4 col-md-3 col-lg-3'}):\n",
    "    title = book.h3.a['title']\n",
    "    div_prodprice = book.find('div', {'class': 'product_price'})\n",
    "    price = div_prodprice.find_all('p')[0].text\n",
    "    stock = div_prodprice.find_all('p')[1].text.strip()\n",
    "    res.append([title, price, stock])\n",
    "res_df = pd.DataFrame(res)"
   ]
  }
 ],
 "metadata": {
  "kernelspec": {
   "display_name": "Python 3",
   "language": "python",
   "name": "python3"
  },
  "language_info": {
   "codemirror_mode": {
    "name": "ipython",
    "version": 3
   },
   "file_extension": ".py",
   "mimetype": "text/x-python",
   "name": "python",
   "nbconvert_exporter": "python",
   "pygments_lexer": "ipython3",
   "version": "3.7.7"
  }
 },
 "nbformat": 4,
 "nbformat_minor": 4
}
